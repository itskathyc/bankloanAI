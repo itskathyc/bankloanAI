{
 "cells": [
  {
   "cell_type": "code",
   "execution_count": 1,
   "id": "78432189-f8fe-46c2-b230-6d60cfd1e3c9",
   "metadata": {},
   "outputs": [],
   "source": [
    "import joblib"
   ]
  },
  {
   "cell_type": "code",
   "execution_count": 4,
   "id": "a1286ad9-c123-45ff-b85e-1fe84a8c2222",
   "metadata": {},
   "outputs": [],
   "source": [
    "model = joblib.load('./model/dti_model.pkl')"
   ]
  },
  {
   "cell_type": "code",
   "execution_count": 5,
   "id": "80d68392-becf-4ee2-8517-111ad53cb280",
   "metadata": {},
   "outputs": [
    {
     "name": "stdout",
     "output_type": "stream",
     "text": [
      "DTI :  20.211249999999996 %\n"
     ]
    }
   ],
   "source": [
    "X = [[1, 4, 20000]]\n",
    "# X = [[3, 4, 10000]] 로 변경가능, 즉 - 여러가지 데이터에 따른 결과값을 볼 수 있는것 [오너십, 워크텀, 한 해 인컴]\n",
    "\n",
    "result = model.predict(X)\n",
    "\n",
    "print('DTI : ' , result[0], '%')"
   ]
  },
  {
   "cell_type": "code",
   "execution_count": null,
   "id": "f22a9c06-4500-4b77-ba87-b7fb516fa497",
   "metadata": {},
   "outputs": [],
   "source": []
  }
 ],
 "metadata": {
  "kernelspec": {
   "display_name": "Python 3",
   "language": "python",
   "name": "python3"
  },
  "language_info": {
   "codemirror_mode": {
    "name": "ipython",
    "version": 3
   },
   "file_extension": ".py",
   "mimetype": "text/x-python",
   "name": "python",
   "nbconvert_exporter": "python",
   "pygments_lexer": "ipython3",
   "version": "3.8.8"
  }
 },
 "nbformat": 4,
 "nbformat_minor": 5
}
