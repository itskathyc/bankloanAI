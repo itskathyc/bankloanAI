{
 "cells": [
  {
   "cell_type": "code",
   "execution_count": 1,
   "id": "3d424dbb-2217-45c6-b8c5-dcc30ce01f2e",
   "metadata": {},
   "outputs": [],
   "source": [
    "import pandas as pd"
   ]
  },
  {
   "cell_type": "code",
   "execution_count": 23,
   "id": "f786c1da-9887-4262-912a-e0627139f23b",
   "metadata": {},
   "outputs": [
    {
     "data": {
      "text/html": [
       "<div>\n",
       "<style scoped>\n",
       "    .dataframe tbody tr th:only-of-type {\n",
       "        vertical-align: middle;\n",
       "    }\n",
       "\n",
       "    .dataframe tbody tr th {\n",
       "        vertical-align: top;\n",
       "    }\n",
       "\n",
       "    .dataframe thead th {\n",
       "        text-align: right;\n",
       "    }\n",
       "</style>\n",
       "<table border=\"1\" class=\"dataframe\">\n",
       "  <thead>\n",
       "    <tr style=\"text-align: right;\">\n",
       "      <th></th>\n",
       "      <th>Unnamed: 0</th>\n",
       "      <th>Unnamed: 0.1</th>\n",
       "      <th>CUSTOMER_ID</th>\n",
       "      <th>LOAN_YEAR</th>\n",
       "      <th>LOAN_DT</th>\n",
       "      <th>WORK_TERM</th>\n",
       "      <th>HOME_OWNERSHIP</th>\n",
       "      <th>INCOME_LEVEL</th>\n",
       "      <th>YEAR_INCOME</th>\n",
       "      <th>LOAN_AMOUNT</th>\n",
       "      <th>...</th>\n",
       "      <th>CUSTOMER_LEVEL</th>\n",
       "      <th>DTI</th>\n",
       "      <th>LAST_PAYMENT</th>\n",
       "      <th>TOTAL_RECV_PRINCIPAL</th>\n",
       "      <th>RECV_LOAN</th>\n",
       "      <th>INSTALLMENT_PAYMENT</th>\n",
       "      <th>AREA</th>\n",
       "      <th>CUSTOMER_GRADE</th>\n",
       "      <th>HOME_OWNERSHIP_LE</th>\n",
       "      <th>CUSTOMER_GRADE_LE</th>\n",
       "    </tr>\n",
       "  </thead>\n",
       "  <tbody>\n",
       "    <tr>\n",
       "      <th>0</th>\n",
       "      <td>0</td>\n",
       "      <td>0</td>\n",
       "      <td>231321</td>\n",
       "      <td>2008</td>\n",
       "      <td>2008-01-01</td>\n",
       "      <td>5.0</td>\n",
       "      <td>NONE</td>\n",
       "      <td>Low</td>\n",
       "      <td>22200</td>\n",
       "      <td>10000</td>\n",
       "      <td>...</td>\n",
       "      <td>A</td>\n",
       "      <td>52.03</td>\n",
       "      <td>11239.56</td>\n",
       "      <td>9999.99</td>\n",
       "      <td>0.0</td>\n",
       "      <td>312.22</td>\n",
       "      <td>leinster</td>\n",
       "      <td>E</td>\n",
       "      <td>2</td>\n",
       "      <td>4</td>\n",
       "    </tr>\n",
       "    <tr>\n",
       "      <th>1</th>\n",
       "      <td>1</td>\n",
       "      <td>1</td>\n",
       "      <td>79893</td>\n",
       "      <td>2007</td>\n",
       "      <td>2007-01-07</td>\n",
       "      <td>0.5</td>\n",
       "      <td>NONE</td>\n",
       "      <td>Low</td>\n",
       "      <td>75027</td>\n",
       "      <td>6700</td>\n",
       "      <td>...</td>\n",
       "      <td>A</td>\n",
       "      <td>10.31</td>\n",
       "      <td>7530.42</td>\n",
       "      <td>6700.00</td>\n",
       "      <td>0.0</td>\n",
       "      <td>209.18</td>\n",
       "      <td>Northern-Irl</td>\n",
       "      <td>B</td>\n",
       "      <td>2</td>\n",
       "      <td>1</td>\n",
       "    </tr>\n",
       "    <tr>\n",
       "      <th>2</th>\n",
       "      <td>2</td>\n",
       "      <td>2</td>\n",
       "      <td>79924</td>\n",
       "      <td>2007</td>\n",
       "      <td>2007-01-08</td>\n",
       "      <td>0.5</td>\n",
       "      <td>NONE</td>\n",
       "      <td>Low</td>\n",
       "      <td>75027</td>\n",
       "      <td>7000</td>\n",
       "      <td>...</td>\n",
       "      <td>A</td>\n",
       "      <td>10.78</td>\n",
       "      <td>7867.53</td>\n",
       "      <td>7000.00</td>\n",
       "      <td>0.0</td>\n",
       "      <td>218.55</td>\n",
       "      <td>Northern-Irl</td>\n",
       "      <td>B</td>\n",
       "      <td>2</td>\n",
       "      <td>1</td>\n",
       "    </tr>\n",
       "    <tr>\n",
       "      <th>3</th>\n",
       "      <td>3</td>\n",
       "      <td>3</td>\n",
       "      <td>312750</td>\n",
       "      <td>2008</td>\n",
       "      <td>2008-01-04</td>\n",
       "      <td>10.0</td>\n",
       "      <td>OTHER</td>\n",
       "      <td>Medium</td>\n",
       "      <td>160000</td>\n",
       "      <td>6000</td>\n",
       "      <td>...</td>\n",
       "      <td>A</td>\n",
       "      <td>4.35</td>\n",
       "      <td>6767.76</td>\n",
       "      <td>6000.00</td>\n",
       "      <td>0.0</td>\n",
       "      <td>188.02</td>\n",
       "      <td>leinster</td>\n",
       "      <td>A</td>\n",
       "      <td>3</td>\n",
       "      <td>0</td>\n",
       "    </tr>\n",
       "    <tr>\n",
       "      <th>4</th>\n",
       "      <td>4</td>\n",
       "      <td>4</td>\n",
       "      <td>323300</td>\n",
       "      <td>2008</td>\n",
       "      <td>2008-01-04</td>\n",
       "      <td>0.5</td>\n",
       "      <td>OTHER</td>\n",
       "      <td>Low</td>\n",
       "      <td>35000</td>\n",
       "      <td>7000</td>\n",
       "      <td>...</td>\n",
       "      <td>A</td>\n",
       "      <td>23.20</td>\n",
       "      <td>7891.39</td>\n",
       "      <td>7000.00</td>\n",
       "      <td>0.0</td>\n",
       "      <td>219.36</td>\n",
       "      <td>leinster</td>\n",
       "      <td>D</td>\n",
       "      <td>3</td>\n",
       "      <td>3</td>\n",
       "    </tr>\n",
       "  </tbody>\n",
       "</table>\n",
       "<p>5 rows × 26 columns</p>\n",
       "</div>"
      ],
      "text/plain": [
       "   Unnamed: 0  Unnamed: 0.1  CUSTOMER_ID  LOAN_YEAR     LOAN_DT  WORK_TERM  \\\n",
       "0           0             0       231321       2008  2008-01-01        5.0   \n",
       "1           1             1        79893       2007  2007-01-07        0.5   \n",
       "2           2             2        79924       2007  2007-01-08        0.5   \n",
       "3           3             3       312750       2008  2008-01-04       10.0   \n",
       "4           4             4       323300       2008  2008-01-04        0.5   \n",
       "\n",
       "  HOME_OWNERSHIP INCOME_LEVEL  YEAR_INCOME  LOAN_AMOUNT  ... CUSTOMER_LEVEL  \\\n",
       "0           NONE          Low        22200        10000  ...              A   \n",
       "1           NONE          Low        75027         6700  ...              A   \n",
       "2           NONE          Low        75027         7000  ...              A   \n",
       "3          OTHER       Medium       160000         6000  ...              A   \n",
       "4          OTHER          Low        35000         7000  ...              A   \n",
       "\n",
       "     DTI LAST_PAYMENT  TOTAL_RECV_PRINCIPAL RECV_LOAN  INSTALLMENT_PAYMENT  \\\n",
       "0  52.03     11239.56               9999.99       0.0               312.22   \n",
       "1  10.31      7530.42               6700.00       0.0               209.18   \n",
       "2  10.78      7867.53               7000.00       0.0               218.55   \n",
       "3   4.35      6767.76               6000.00       0.0               188.02   \n",
       "4  23.20      7891.39               7000.00       0.0               219.36   \n",
       "\n",
       "           AREA  CUSTOMER_GRADE  HOME_OWNERSHIP_LE  CUSTOMER_GRADE_LE  \n",
       "0      leinster               E                  2                  4  \n",
       "1  Northern-Irl               B                  2                  1  \n",
       "2  Northern-Irl               B                  2                  1  \n",
       "3      leinster               A                  3                  0  \n",
       "4      leinster               D                  3                  3  \n",
       "\n",
       "[5 rows x 26 columns]"
      ]
     },
     "execution_count": 23,
     "metadata": {},
     "output_type": "execute_result"
    }
   ],
   "source": [
    "#DTI를 피쳐값으로 두고 고객등급 구하는 모델\n",
    "df = pd.read_csv(\"./data/bankloan_dataset_prep.csv\")\n",
    "\n",
    "df.head(5)"
   ]
  },
  {
   "cell_type": "code",
   "execution_count": 24,
   "id": "2eca0e3b-dddd-4478-986d-2c159110027c",
   "metadata": {},
   "outputs": [
    {
     "data": {
      "text/html": [
       "<div>\n",
       "<style scoped>\n",
       "    .dataframe tbody tr th:only-of-type {\n",
       "        vertical-align: middle;\n",
       "    }\n",
       "\n",
       "    .dataframe tbody tr th {\n",
       "        vertical-align: top;\n",
       "    }\n",
       "\n",
       "    .dataframe thead th {\n",
       "        text-align: right;\n",
       "    }\n",
       "</style>\n",
       "<table border=\"1\" class=\"dataframe\">\n",
       "  <thead>\n",
       "    <tr style=\"text-align: right;\">\n",
       "      <th></th>\n",
       "      <th>YEAR_INCOME</th>\n",
       "      <th>LOAN_AMOUNT</th>\n",
       "      <th>LOAN_RATE</th>\n",
       "    </tr>\n",
       "  </thead>\n",
       "  <tbody>\n",
       "    <tr>\n",
       "      <th>0</th>\n",
       "      <td>22200</td>\n",
       "      <td>10000</td>\n",
       "      <td>7.75</td>\n",
       "    </tr>\n",
       "    <tr>\n",
       "      <th>1</th>\n",
       "      <td>75027</td>\n",
       "      <td>6700</td>\n",
       "      <td>7.75</td>\n",
       "    </tr>\n",
       "    <tr>\n",
       "      <th>2</th>\n",
       "      <td>75027</td>\n",
       "      <td>7000</td>\n",
       "      <td>7.75</td>\n",
       "    </tr>\n",
       "  </tbody>\n",
       "</table>\n",
       "</div>"
      ],
      "text/plain": [
       "   YEAR_INCOME  LOAN_AMOUNT  LOAN_RATE\n",
       "0        22200        10000       7.75\n",
       "1        75027         6700       7.75\n",
       "2        75027         7000       7.75"
      ]
     },
     "execution_count": 24,
     "metadata": {},
     "output_type": "execute_result"
    }
   ],
   "source": [
    "features = ['YEAR_INCOME', 'LOAN_AMOUNT', 'LOAN_RATE']\n",
    "X = df[features]\n",
    "X.head(3)"
   ]
  },
  {
   "cell_type": "code",
   "execution_count": 25,
   "id": "5f704268-32d3-43e1-9d9e-830918d4f7c9",
   "metadata": {},
   "outputs": [],
   "source": [
    "y = df['CUSTOMER_GRADE_LE']"
   ]
  },
  {
   "cell_type": "code",
   "execution_count": 26,
   "id": "8e12c69c-57e1-452b-9dd8-78e5812faba8",
   "metadata": {},
   "outputs": [
    {
     "data": {
      "text/plain": [
       "0    4\n",
       "1    1\n",
       "2    1\n",
       "Name: CUSTOMER_GRADE_LE, dtype: int64"
      ]
     },
     "execution_count": 26,
     "metadata": {},
     "output_type": "execute_result"
    }
   ],
   "source": [
    "y.head(3)"
   ]
  },
  {
   "cell_type": "code",
   "execution_count": 27,
   "id": "ee69fb28-3f5b-4b7f-8d5f-8938abdf0d27",
   "metadata": {},
   "outputs": [],
   "source": [
    "from sklearn.model_selection import train_test_split\n",
    "train_input, test_input, train_target, test_target = train_test_split(X, y, random_state=1)"
   ]
  },
  {
   "cell_type": "code",
   "execution_count": 28,
   "id": "4c1ed85a-691d-4751-ba92-1c94e99483fe",
   "metadata": {},
   "outputs": [
    {
     "data": {
      "text/plain": [
       "DecisionTreeClassifier(random_state=1)"
      ]
     },
     "execution_count": 28,
     "metadata": {},
     "output_type": "execute_result"
    }
   ],
   "source": [
    "#의사 결정 트리.\n",
    "\n",
    "from sklearn.tree import DecisionTreeClassifier\n",
    "dmodel = DecisionTreeClassifier(random_state=1)\n",
    "dmodel.fit(train_input,train_target)"
   ]
  },
  {
   "cell_type": "code",
   "execution_count": 29,
   "id": "cd2b9b4b-b0c4-4d96-a027-28ac3ed7de42",
   "metadata": {},
   "outputs": [
    {
     "name": "stdout",
     "output_type": "stream",
     "text": [
      "TRAIN :  1.0\n",
      "TEST :  0.9913633392684081\n"
     ]
    }
   ],
   "source": [
    "print(\"TRAIN : \", dmodel.score(train_input,train_target))\n",
    "print(\"TEST : \", dmodel.score(test_input,test_target))"
   ]
  },
  {
   "cell_type": "code",
   "execution_count": 30,
   "id": "9cbfa03e-5ee5-4972-bfe7-bd27737c760e",
   "metadata": {},
   "outputs": [
    {
     "name": "stdout",
     "output_type": "stream",
     "text": [
      "0         4\n",
      "1         1\n",
      "2         1\n",
      "3         0\n",
      "4         3\n",
      "         ..\n",
      "887372    4\n",
      "887373    4\n",
      "887374    4\n",
      "887375    4\n",
      "887376    1\n",
      "Name: CUSTOMER_GRADE_LE, Length: 887377, dtype: int64\n"
     ]
    }
   ],
   "source": [
    "print(y)"
   ]
  },
  {
   "cell_type": "code",
   "execution_count": 31,
   "id": "3a3a98d0-1577-443d-b777-dbb7105c29d7",
   "metadata": {},
   "outputs": [
    {
     "name": "stderr",
     "output_type": "stream",
     "text": [
      "C:\\Users\\cdy16\\anaconda3\\lib\\site-packages\\xgboost\\sklearn.py:1146: UserWarning: The use of label encoder in XGBClassifier is deprecated and will be removed in a future release. To remove this warning, do the following: 1) Pass option use_label_encoder=False when constructing XGBClassifier object; and 2) Encode your labels (y) as integers starting with 0, i.e. 0, 1, 2, ..., [num_class - 1].\n",
      "  warnings.warn(label_encoder_deprecation_msg, UserWarning)\n"
     ]
    },
    {
     "name": "stdout",
     "output_type": "stream",
     "text": [
      "[16:23:04] WARNING: C:/Users/Administrator/workspace/xgboost-win64_release_1.4.0/src/learner.cc:1095: Starting in XGBoost 1.3.0, the default evaluation metric used with the objective 'multi:softprob' was changed from 'merror' to 'mlogloss'. Explicitly set eval_metric if you'd like to restore the old behavior.\n"
     ]
    },
    {
     "data": {
      "text/plain": [
       "XGBClassifier(base_score=0.5, booster='gbtree', colsample_bylevel=1,\n",
       "              colsample_bynode=1, colsample_bytree=1, gamma=0, gpu_id=-1,\n",
       "              importance_type='gain', interaction_constraints='',\n",
       "              learning_rate=0.300000012, max_delta_step=0, max_depth=10,\n",
       "              min_child_weight=1, missing=nan, monotone_constraints='()',\n",
       "              n_estimators=20, n_jobs=4, num_parallel_tree=1,\n",
       "              objective='multi:softprob', random_state=1, reg_alpha=0,\n",
       "              reg_lambda=1, scale_pos_weight=None, subsample=1,\n",
       "              tree_method='exact', validate_parameters=1, verbosity=None)"
      ]
     },
     "execution_count": 31,
     "metadata": {},
     "output_type": "execute_result"
    }
   ],
   "source": [
    "from xgboost import XGBClassifier\n",
    "xgb_model = XGBClassifier(n_estimators=20, max_depth=10, random_state=1)\n",
    "xgb_model.fit(train_input, train_target)"
   ]
  },
  {
   "cell_type": "code",
   "execution_count": 32,
   "id": "d8915c03-2234-4ded-9011-bb85d9ee63d6",
   "metadata": {},
   "outputs": [],
   "source": [
    "#의사결정트리\n",
    "from sklearn.tree import DecisionTreeClassifier\n",
    "model = DecisionTreeClassifier(random_state=1)\n",
    "#random_state=1을 하면 값이 계속 바뀜, 스코어가 바뀜 >> random_state가 뭔지 찾아보기"
   ]
  },
  {
   "cell_type": "code",
   "execution_count": 33,
   "id": "4bd38059-8eae-4579-9863-ae4e3a35b6a5",
   "metadata": {},
   "outputs": [
    {
     "data": {
      "text/plain": [
       "DecisionTreeClassifier(random_state=1)"
      ]
     },
     "execution_count": 33,
     "metadata": {},
     "output_type": "execute_result"
    }
   ],
   "source": [
    "model.fit(X,y)"
   ]
  },
  {
   "cell_type": "code",
   "execution_count": 34,
   "id": "788378e0-437d-48e9-b988-a75607e66125",
   "metadata": {},
   "outputs": [
    {
     "data": {
      "text/plain": [
       "1.0"
      ]
     },
     "execution_count": 34,
     "metadata": {},
     "output_type": "execute_result"
    }
   ],
   "source": [
    "model.score(X,y)\n",
    "#score가 몇일때 유의미한 데이터인가? "
   ]
  },
  {
   "cell_type": "code",
   "execution_count": 40,
   "id": "bc1682b3-0b69-4df0-8a4d-35e14c1b684a",
   "metadata": {},
   "outputs": [
    {
     "data": {
      "text/plain": [
       "['./model/customerGrade_model.pkl']"
      ]
     },
     "execution_count": 40,
     "metadata": {},
     "output_type": "execute_result"
    }
   ],
   "source": [
    "import joblib\n",
    "#xgboost를 save해야함\n",
    "joblib.dump(xgb_model,'./model/customerGrade_model.pkl')"
   ]
  },
  {
   "cell_type": "code",
   "execution_count": 41,
   "id": "9e219dec-16ae-4838-ac30-6a775194aa60",
   "metadata": {},
   "outputs": [],
   "source": [
    "model = joblib.load('./model/customerGrade_model.pkl')"
   ]
  },
  {
   "cell_type": "code",
   "execution_count": 55,
   "id": "06e71abd-0f94-4c99-8e9f-bf2a8e377d4c",
   "metadata": {},
   "outputs": [
    {
     "name": "stdout",
     "output_type": "stream",
     "text": [
      "   YEAR_INCOME  LOAN_AMOUNT  LOAN_RATE\n",
      "0       100000        10000         13\n",
      "\n",
      "\n",
      "등급 :  1\n"
     ]
    }
   ],
   "source": [
    "매년수입 = 100000\n",
    "대출액 = 10000\n",
    "대출이자 = 13\n",
    "\n",
    "dti_df = pd.DataFrame([[매년수입, 대출액, 대출이자]],\n",
    "                 columns=['YEAR_INCOME', 'LOAN_AMOUNT', 'LOAN_RATE'])\n",
    "\n",
    "print(dti_df)\n",
    "\n",
    "result = model.predict(dti_df)\n",
    "\n",
    "print('\\n')\n",
    "print('등급 : ', result[0])\n",
    "\n",
    "#result = y = customer_grade_le\n",
    "#등급 : 0, 1, 2, 3, 4 >> 4등급 : E\n",
    "#dti : 돈을 갚을 수 있는 능력"
   ]
  },
  {
   "cell_type": "code",
   "execution_count": null,
   "id": "863a20a4-63c2-41b7-95b6-a2467cc8df80",
   "metadata": {},
   "outputs": [],
   "source": []
  }
 ],
 "metadata": {
  "kernelspec": {
   "display_name": "Python 3",
   "language": "python",
   "name": "python3"
  },
  "language_info": {
   "codemirror_mode": {
    "name": "ipython",
    "version": 3
   },
   "file_extension": ".py",
   "mimetype": "text/x-python",
   "name": "python",
   "nbconvert_exporter": "python",
   "pygments_lexer": "ipython3",
   "version": "3.8.8"
  }
 },
 "nbformat": 4,
 "nbformat_minor": 5
}
