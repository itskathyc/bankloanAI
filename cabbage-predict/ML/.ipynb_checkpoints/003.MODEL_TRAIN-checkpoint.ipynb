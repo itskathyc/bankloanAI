{
 "cells": [
  {
   "cell_type": "code",
   "execution_count": 1,
   "id": "386a93bf-44f5-42eb-93c9-56df0c8694bf",
   "metadata": {},
   "outputs": [],
   "source": [
    "import pandas as pd"
   ]
  },
  {
   "cell_type": "code",
   "execution_count": 2,
   "id": "44966bc3-e9fa-4dad-955f-b6add65bd5c2",
   "metadata": {},
   "outputs": [
    {
     "data": {
      "text/html": [
       "<div>\n",
       "<style scoped>\n",
       "    .dataframe tbody tr th:only-of-type {\n",
       "        vertical-align: middle;\n",
       "    }\n",
       "\n",
       "    .dataframe tbody tr th {\n",
       "        vertical-align: top;\n",
       "    }\n",
       "\n",
       "    .dataframe thead th {\n",
       "        text-align: right;\n",
       "    }\n",
       "</style>\n",
       "<table border=\"1\" class=\"dataframe\">\n",
       "  <thead>\n",
       "    <tr style=\"text-align: right;\">\n",
       "      <th></th>\n",
       "      <th>Unnamed: 0</th>\n",
       "      <th>Unnamed: 0.1</th>\n",
       "      <th>CUSTOMER_ID</th>\n",
       "      <th>LOAN_YEAR</th>\n",
       "      <th>LOAN_DT</th>\n",
       "      <th>WORK_TERM</th>\n",
       "      <th>HOME_OWNERSHIP</th>\n",
       "      <th>INCOME_LEVEL</th>\n",
       "      <th>YEAR_INCOME</th>\n",
       "      <th>LOAN_AMOUNT</th>\n",
       "      <th>...</th>\n",
       "      <th>CUSTOMER_LEVEL</th>\n",
       "      <th>DTI</th>\n",
       "      <th>LAST_PAYMENT</th>\n",
       "      <th>TOTAL_RECV_PRINCIPAL</th>\n",
       "      <th>RECV_LOAN</th>\n",
       "      <th>INSTALLMENT_PAYMENT</th>\n",
       "      <th>AREA</th>\n",
       "      <th>CUSTOMER_GRADE</th>\n",
       "      <th>HOME_OWNERSHIP_LE</th>\n",
       "      <th>CUSTOMER_GRADE_LE</th>\n",
       "    </tr>\n",
       "  </thead>\n",
       "  <tbody>\n",
       "    <tr>\n",
       "      <th>0</th>\n",
       "      <td>0</td>\n",
       "      <td>0</td>\n",
       "      <td>231321</td>\n",
       "      <td>2008</td>\n",
       "      <td>2008-01-01</td>\n",
       "      <td>5.0</td>\n",
       "      <td>NONE</td>\n",
       "      <td>Low</td>\n",
       "      <td>22200</td>\n",
       "      <td>10000</td>\n",
       "      <td>...</td>\n",
       "      <td>A</td>\n",
       "      <td>52.03</td>\n",
       "      <td>11239.56</td>\n",
       "      <td>9999.99</td>\n",
       "      <td>0.0</td>\n",
       "      <td>312.22</td>\n",
       "      <td>leinster</td>\n",
       "      <td>E</td>\n",
       "      <td>2</td>\n",
       "      <td>4</td>\n",
       "    </tr>\n",
       "    <tr>\n",
       "      <th>1</th>\n",
       "      <td>1</td>\n",
       "      <td>1</td>\n",
       "      <td>79893</td>\n",
       "      <td>2007</td>\n",
       "      <td>2007-01-07</td>\n",
       "      <td>0.5</td>\n",
       "      <td>NONE</td>\n",
       "      <td>Low</td>\n",
       "      <td>75027</td>\n",
       "      <td>6700</td>\n",
       "      <td>...</td>\n",
       "      <td>A</td>\n",
       "      <td>10.31</td>\n",
       "      <td>7530.42</td>\n",
       "      <td>6700.00</td>\n",
       "      <td>0.0</td>\n",
       "      <td>209.18</td>\n",
       "      <td>Northern-Irl</td>\n",
       "      <td>B</td>\n",
       "      <td>2</td>\n",
       "      <td>1</td>\n",
       "    </tr>\n",
       "    <tr>\n",
       "      <th>2</th>\n",
       "      <td>2</td>\n",
       "      <td>2</td>\n",
       "      <td>79924</td>\n",
       "      <td>2007</td>\n",
       "      <td>2007-01-08</td>\n",
       "      <td>0.5</td>\n",
       "      <td>NONE</td>\n",
       "      <td>Low</td>\n",
       "      <td>75027</td>\n",
       "      <td>7000</td>\n",
       "      <td>...</td>\n",
       "      <td>A</td>\n",
       "      <td>10.78</td>\n",
       "      <td>7867.53</td>\n",
       "      <td>7000.00</td>\n",
       "      <td>0.0</td>\n",
       "      <td>218.55</td>\n",
       "      <td>Northern-Irl</td>\n",
       "      <td>B</td>\n",
       "      <td>2</td>\n",
       "      <td>1</td>\n",
       "    </tr>\n",
       "  </tbody>\n",
       "</table>\n",
       "<p>3 rows × 26 columns</p>\n",
       "</div>"
      ],
      "text/plain": [
       "   Unnamed: 0  Unnamed: 0.1  CUSTOMER_ID  LOAN_YEAR     LOAN_DT  WORK_TERM  \\\n",
       "0           0             0       231321       2008  2008-01-01        5.0   \n",
       "1           1             1        79893       2007  2007-01-07        0.5   \n",
       "2           2             2        79924       2007  2007-01-08        0.5   \n",
       "\n",
       "  HOME_OWNERSHIP INCOME_LEVEL  YEAR_INCOME  LOAN_AMOUNT  ... CUSTOMER_LEVEL  \\\n",
       "0           NONE          Low        22200        10000  ...              A   \n",
       "1           NONE          Low        75027         6700  ...              A   \n",
       "2           NONE          Low        75027         7000  ...              A   \n",
       "\n",
       "     DTI LAST_PAYMENT  TOTAL_RECV_PRINCIPAL RECV_LOAN  INSTALLMENT_PAYMENT  \\\n",
       "0  52.03     11239.56               9999.99       0.0               312.22   \n",
       "1  10.31      7530.42               6700.00       0.0               209.18   \n",
       "2  10.78      7867.53               7000.00       0.0               218.55   \n",
       "\n",
       "           AREA  CUSTOMER_GRADE  HOME_OWNERSHIP_LE  CUSTOMER_GRADE_LE  \n",
       "0      leinster               E                  2                  4  \n",
       "1  Northern-Irl               B                  2                  1  \n",
       "2  Northern-Irl               B                  2                  1  \n",
       "\n",
       "[3 rows x 26 columns]"
      ]
     },
     "execution_count": 2,
     "metadata": {},
     "output_type": "execute_result"
    }
   ],
   "source": [
    "df = pd.read_csv(\"./data/bankloan_dataset_prep.csv\")\n",
    "#model은 정제화된 csv를 읽어야하기 때문에 EDA와 전처리 과정을 거치는 것임. \n",
    "#너무 많아서 그런게 아니고, 정확성을 높이기 위해 이런 과정을 거친다.\n",
    "df.head(3)"
   ]
  },
  {
   "cell_type": "code",
   "execution_count": 32,
   "id": "ac9e85a4-2468-4369-984f-5308c5a718c6",
   "metadata": {},
   "outputs": [
    {
     "data": {
      "text/html": [
       "<div>\n",
       "<style scoped>\n",
       "    .dataframe tbody tr th:only-of-type {\n",
       "        vertical-align: middle;\n",
       "    }\n",
       "\n",
       "    .dataframe tbody tr th {\n",
       "        vertical-align: top;\n",
       "    }\n",
       "\n",
       "    .dataframe thead th {\n",
       "        text-align: right;\n",
       "    }\n",
       "</style>\n",
       "<table border=\"1\" class=\"dataframe\">\n",
       "  <thead>\n",
       "    <tr style=\"text-align: right;\">\n",
       "      <th></th>\n",
       "      <th>YEAR_INCOME</th>\n",
       "      <th>LOAN_AMOUNT</th>\n",
       "      <th>LOAN_RATE</th>\n",
       "    </tr>\n",
       "  </thead>\n",
       "  <tbody>\n",
       "    <tr>\n",
       "      <th>0</th>\n",
       "      <td>24000</td>\n",
       "      <td>5000</td>\n",
       "      <td>10.65</td>\n",
       "    </tr>\n",
       "    <tr>\n",
       "      <th>1</th>\n",
       "      <td>30000</td>\n",
       "      <td>2500</td>\n",
       "      <td>15.27</td>\n",
       "    </tr>\n",
       "    <tr>\n",
       "      <th>2</th>\n",
       "      <td>12252</td>\n",
       "      <td>2400</td>\n",
       "      <td>15.96</td>\n",
       "    </tr>\n",
       "  </tbody>\n",
       "</table>\n",
       "</div>"
      ],
      "text/plain": [
       "   YEAR_INCOME  LOAN_AMOUNT  LOAN_RATE\n",
       "0        24000         5000      10.65\n",
       "1        30000         2500      15.27\n",
       "2        12252         2400      15.96"
      ]
     },
     "execution_count": 32,
     "metadata": {},
     "output_type": "execute_result"
    }
   ],
   "source": [
    "features = ['YEAR_INCOME', 'LOAN_AMOUNT', 'LOAN_RATE']\n",
    "X = df[features]\n",
    "X.head(3)"
   ]
  },
  {
   "cell_type": "code",
   "execution_count": 49,
   "id": "92296452-dd07-4ec3-a659-6e4d966469e6",
   "metadata": {},
   "outputs": [
    {
     "ename": "KeyError",
     "evalue": "'DTI'",
     "output_type": "error",
     "traceback": [
      "\u001b[1;31m---------------------------------------------------------------------------\u001b[0m",
      "\u001b[1;31mKeyError\u001b[0m                                  Traceback (most recent call last)",
      "\u001b[1;32m~\\anaconda3\\lib\\site-packages\\pandas\\core\\indexes\\base.py\u001b[0m in \u001b[0;36mget_loc\u001b[1;34m(self, key, method, tolerance)\u001b[0m\n\u001b[0;32m   3079\u001b[0m             \u001b[1;32mtry\u001b[0m\u001b[1;33m:\u001b[0m\u001b[1;33m\u001b[0m\u001b[1;33m\u001b[0m\u001b[0m\n\u001b[1;32m-> 3080\u001b[1;33m                 \u001b[1;32mreturn\u001b[0m \u001b[0mself\u001b[0m\u001b[1;33m.\u001b[0m\u001b[0m_engine\u001b[0m\u001b[1;33m.\u001b[0m\u001b[0mget_loc\u001b[0m\u001b[1;33m(\u001b[0m\u001b[0mcasted_key\u001b[0m\u001b[1;33m)\u001b[0m\u001b[1;33m\u001b[0m\u001b[1;33m\u001b[0m\u001b[0m\n\u001b[0m\u001b[0;32m   3081\u001b[0m             \u001b[1;32mexcept\u001b[0m \u001b[0mKeyError\u001b[0m \u001b[1;32mas\u001b[0m \u001b[0merr\u001b[0m\u001b[1;33m:\u001b[0m\u001b[1;33m\u001b[0m\u001b[1;33m\u001b[0m\u001b[0m\n",
      "\u001b[1;32mpandas\\_libs\\index.pyx\u001b[0m in \u001b[0;36mpandas._libs.index.IndexEngine.get_loc\u001b[1;34m()\u001b[0m\n",
      "\u001b[1;32mpandas\\_libs\\index.pyx\u001b[0m in \u001b[0;36mpandas._libs.index.IndexEngine.get_loc\u001b[1;34m()\u001b[0m\n",
      "\u001b[1;32mpandas\\_libs\\hashtable_class_helper.pxi\u001b[0m in \u001b[0;36mpandas._libs.hashtable.PyObjectHashTable.get_item\u001b[1;34m()\u001b[0m\n",
      "\u001b[1;32mpandas\\_libs\\hashtable_class_helper.pxi\u001b[0m in \u001b[0;36mpandas._libs.hashtable.PyObjectHashTable.get_item\u001b[1;34m()\u001b[0m\n",
      "\u001b[1;31mKeyError\u001b[0m: 'DTI'",
      "\nThe above exception was the direct cause of the following exception:\n",
      "\u001b[1;31mKeyError\u001b[0m                                  Traceback (most recent call last)",
      "\u001b[1;32m<ipython-input-49-576fd54250ca>\u001b[0m in \u001b[0;36m<module>\u001b[1;34m\u001b[0m\n\u001b[1;32m----> 1\u001b[1;33m \u001b[0my\u001b[0m \u001b[1;33m=\u001b[0m \u001b[0mdf\u001b[0m\u001b[1;33m[\u001b[0m\u001b[1;34m'DTI'\u001b[0m\u001b[1;33m]\u001b[0m\u001b[1;33m\u001b[0m\u001b[1;33m\u001b[0m\u001b[0m\n\u001b[0m",
      "\u001b[1;32m~\\anaconda3\\lib\\site-packages\\pandas\\core\\frame.py\u001b[0m in \u001b[0;36m__getitem__\u001b[1;34m(self, key)\u001b[0m\n\u001b[0;32m   3022\u001b[0m             \u001b[1;32mif\u001b[0m \u001b[0mself\u001b[0m\u001b[1;33m.\u001b[0m\u001b[0mcolumns\u001b[0m\u001b[1;33m.\u001b[0m\u001b[0mnlevels\u001b[0m \u001b[1;33m>\u001b[0m \u001b[1;36m1\u001b[0m\u001b[1;33m:\u001b[0m\u001b[1;33m\u001b[0m\u001b[1;33m\u001b[0m\u001b[0m\n\u001b[0;32m   3023\u001b[0m                 \u001b[1;32mreturn\u001b[0m \u001b[0mself\u001b[0m\u001b[1;33m.\u001b[0m\u001b[0m_getitem_multilevel\u001b[0m\u001b[1;33m(\u001b[0m\u001b[0mkey\u001b[0m\u001b[1;33m)\u001b[0m\u001b[1;33m\u001b[0m\u001b[1;33m\u001b[0m\u001b[0m\n\u001b[1;32m-> 3024\u001b[1;33m             \u001b[0mindexer\u001b[0m \u001b[1;33m=\u001b[0m \u001b[0mself\u001b[0m\u001b[1;33m.\u001b[0m\u001b[0mcolumns\u001b[0m\u001b[1;33m.\u001b[0m\u001b[0mget_loc\u001b[0m\u001b[1;33m(\u001b[0m\u001b[0mkey\u001b[0m\u001b[1;33m)\u001b[0m\u001b[1;33m\u001b[0m\u001b[1;33m\u001b[0m\u001b[0m\n\u001b[0m\u001b[0;32m   3025\u001b[0m             \u001b[1;32mif\u001b[0m \u001b[0mis_integer\u001b[0m\u001b[1;33m(\u001b[0m\u001b[0mindexer\u001b[0m\u001b[1;33m)\u001b[0m\u001b[1;33m:\u001b[0m\u001b[1;33m\u001b[0m\u001b[1;33m\u001b[0m\u001b[0m\n\u001b[0;32m   3026\u001b[0m                 \u001b[0mindexer\u001b[0m \u001b[1;33m=\u001b[0m \u001b[1;33m[\u001b[0m\u001b[0mindexer\u001b[0m\u001b[1;33m]\u001b[0m\u001b[1;33m\u001b[0m\u001b[1;33m\u001b[0m\u001b[0m\n",
      "\u001b[1;32m~\\anaconda3\\lib\\site-packages\\pandas\\core\\indexes\\base.py\u001b[0m in \u001b[0;36mget_loc\u001b[1;34m(self, key, method, tolerance)\u001b[0m\n\u001b[0;32m   3080\u001b[0m                 \u001b[1;32mreturn\u001b[0m \u001b[0mself\u001b[0m\u001b[1;33m.\u001b[0m\u001b[0m_engine\u001b[0m\u001b[1;33m.\u001b[0m\u001b[0mget_loc\u001b[0m\u001b[1;33m(\u001b[0m\u001b[0mcasted_key\u001b[0m\u001b[1;33m)\u001b[0m\u001b[1;33m\u001b[0m\u001b[1;33m\u001b[0m\u001b[0m\n\u001b[0;32m   3081\u001b[0m             \u001b[1;32mexcept\u001b[0m \u001b[0mKeyError\u001b[0m \u001b[1;32mas\u001b[0m \u001b[0merr\u001b[0m\u001b[1;33m:\u001b[0m\u001b[1;33m\u001b[0m\u001b[1;33m\u001b[0m\u001b[0m\n\u001b[1;32m-> 3082\u001b[1;33m                 \u001b[1;32mraise\u001b[0m \u001b[0mKeyError\u001b[0m\u001b[1;33m(\u001b[0m\u001b[0mkey\u001b[0m\u001b[1;33m)\u001b[0m \u001b[1;32mfrom\u001b[0m \u001b[0merr\u001b[0m\u001b[1;33m\u001b[0m\u001b[1;33m\u001b[0m\u001b[0m\n\u001b[0m\u001b[0;32m   3083\u001b[0m \u001b[1;33m\u001b[0m\u001b[0m\n\u001b[0;32m   3084\u001b[0m         \u001b[1;32mif\u001b[0m \u001b[0mtolerance\u001b[0m \u001b[1;32mis\u001b[0m \u001b[1;32mnot\u001b[0m \u001b[1;32mNone\u001b[0m\u001b[1;33m:\u001b[0m\u001b[1;33m\u001b[0m\u001b[1;33m\u001b[0m\u001b[0m\n",
      "\u001b[1;31mKeyError\u001b[0m: 'DTI'"
     ]
    }
   ],
   "source": [
    "y = df['DTI']"
   ]
  },
  {
   "cell_type": "code",
   "execution_count": 50,
   "id": "6b01eb3f-6c59-40d8-be04-751db1a2f82e",
   "metadata": {},
   "outputs": [
    {
     "data": {
      "text/plain": [
       "0    25.27\n",
       "1    10.88\n",
       "2    25.84\n",
       "Name: DTI, dtype: float64"
      ]
     },
     "execution_count": 50,
     "metadata": {},
     "output_type": "execute_result"
    }
   ],
   "source": [
    "y.head(3)"
   ]
  },
  {
   "cell_type": "code",
   "execution_count": 34,
   "id": "c5994906-f34a-4429-8eda-65cf012b7f02",
   "metadata": {},
   "outputs": [],
   "source": [
    "from sklearn.model_selection import train_test_split\n",
    "train_input, test_input, train_target, test_target = train_test_split(X, y, random_state=1)\n"
   ]
  },
  {
   "cell_type": "code",
   "execution_count": 35,
   "id": "4d548cf0-54e7-4dcf-af9b-e8596fc56ec1",
   "metadata": {},
   "outputs": [
    {
     "data": {
      "text/plain": [
       "DecisionTreeRegressor(random_state=1)"
      ]
     },
     "execution_count": 35,
     "metadata": {},
     "output_type": "execute_result"
    }
   ],
   "source": [
    "#의사 결정 트리.\n",
    "\n",
    "from sklearn.tree import DecisionTreeRegressor\n",
    "dmodel = DecisionTreeRegressor(random_state=1)\n",
    "dmodel.fit(train_input,train_target)"
   ]
  },
  {
   "cell_type": "code",
   "execution_count": 36,
   "id": "a272f6ea-cde0-4b80-9b3f-f43dee81c106",
   "metadata": {},
   "outputs": [
    {
     "name": "stdout",
     "output_type": "stream",
     "text": [
      "TRAIN :  1.0\n",
      "TEST :  0.9601380753951912\n"
     ]
    }
   ],
   "source": [
    "print(\"TRAIN : \", dmodel.score(train_input,train_target))\n",
    "print(\"TEST : \", dmodel.score(test_input,test_target))"
   ]
  },
  {
   "cell_type": "code",
   "execution_count": 37,
   "id": "95c9e82b-676f-4d85-ad00-373fd7ab4043",
   "metadata": {},
   "outputs": [
    {
     "name": "stdout",
     "output_type": "stream",
     "text": [
      "0         25.27\n",
      "1         10.88\n",
      "2         25.84\n",
      "3         25.81\n",
      "4          4.70\n",
      "          ...  \n",
      "768868    35.55\n",
      "768869    31.52\n",
      "768870    22.87\n",
      "768871    36.96\n",
      "768872    53.06\n",
      "Name: DTI, Length: 768873, dtype: float64\n"
     ]
    }
   ],
   "source": [
    "print(y)"
   ]
  },
  {
   "cell_type": "code",
   "execution_count": 38,
   "id": "e0c6b6af-f8ce-4bda-9e1b-0915b654ae59",
   "metadata": {},
   "outputs": [
    {
     "data": {
      "text/plain": [
       "XGBRegressor(base_score=0.5, booster='gbtree', colsample_bylevel=1,\n",
       "             colsample_bynode=1, colsample_bytree=1, gamma=0, gpu_id=-1,\n",
       "             importance_type='gain', interaction_constraints='',\n",
       "             learning_rate=0.300000012, max_delta_step=0, max_depth=10,\n",
       "             min_child_weight=1, missing=nan, monotone_constraints='()',\n",
       "             n_estimators=20, n_jobs=4, num_parallel_tree=1, random_state=1,\n",
       "             reg_alpha=0, reg_lambda=1, scale_pos_weight=1, subsample=1,\n",
       "             tree_method='exact', validate_parameters=1, verbosity=None)"
      ]
     },
     "execution_count": 38,
     "metadata": {},
     "output_type": "execute_result"
    }
   ],
   "source": [
    "from xgboost import XGBRegressor\n",
    "xgb_model = XGBRegressor(n_estimators=20, max_depth=10, random_state=1)\n",
    "xgb_model.fit(train_input, train_target)"
   ]
  },
  {
   "cell_type": "code",
   "execution_count": 39,
   "id": "0e9f6c13-feca-480a-a018-b81ce422fbc0",
   "metadata": {},
   "outputs": [],
   "source": [
    "#의사결정트리\n",
    "from sklearn.tree import DecisionTreeRegressor\n",
    "model = DecisionTreeRegressor(random_state=1)\n",
    "#random_state=1을 하면 값이 계속 바뀜, 스코어가 바뀜 >> random_state가 뭔지 찾아보기"
   ]
  },
  {
   "cell_type": "code",
   "execution_count": 40,
   "id": "1d8f3b4d-0fcb-4119-8a88-735636bd6789",
   "metadata": {},
   "outputs": [
    {
     "data": {
      "text/plain": [
       "DecisionTreeRegressor(random_state=1)"
      ]
     },
     "execution_count": 40,
     "metadata": {},
     "output_type": "execute_result"
    }
   ],
   "source": [
    "model.fit(X,y)"
   ]
  },
  {
   "cell_type": "code",
   "execution_count": 41,
   "id": "ddf5710e-1063-4427-9c65-c01ac1590402",
   "metadata": {},
   "outputs": [
    {
     "data": {
      "text/plain": [
       "1.0"
      ]
     },
     "execution_count": 41,
     "metadata": {},
     "output_type": "execute_result"
    }
   ],
   "source": [
    "model.score(X,y)\n",
    "#score가 몇일때 유의미한 데이터인가? "
   ]
  },
  {
   "cell_type": "code",
   "execution_count": 42,
   "id": "a20c615c-0c7d-4aa6-a4a7-9b67fa9f853a",
   "metadata": {},
   "outputs": [
    {
     "data": {
      "text/plain": [
       "['./model/dti_model.pkl']"
      ]
     },
     "execution_count": 42,
     "metadata": {},
     "output_type": "execute_result"
    }
   ],
   "source": [
    "import joblib\n",
    "joblib.dump(model,'./model/dti_model.pkl')"
   ]
  },
  {
   "cell_type": "code",
   "execution_count": 43,
   "id": "156aab76-b3d1-4160-a73e-653b1ee5e6e7",
   "metadata": {},
   "outputs": [
    {
     "data": {
      "text/plain": [
       "['./model/dti_model_xgboost2.pkl']"
      ]
     },
     "execution_count": 43,
     "metadata": {},
     "output_type": "execute_result"
    }
   ],
   "source": [
    "#depth줄인버전\n",
    "import joblib\n",
    "joblib.dump(xgb_model,'./model/dti_model_xgboost2.pkl')"
   ]
  },
  {
   "cell_type": "code",
   "execution_count": 44,
   "id": "71f56de1-5302-4144-afb7-0347071412e5",
   "metadata": {},
   "outputs": [],
   "source": [
    "model = joblib.load('./model/dti_model_xgboost2.pkl')"
   ]
  },
  {
   "cell_type": "code",
   "execution_count": 51,
   "id": "61422709-fb69-4988-86f4-319ff247ec24",
   "metadata": {},
   "outputs": [
    {
     "name": "stdout",
     "output_type": "stream",
     "text": [
      "   YEAR_INCOME  LOAN_AMOUNT  LOAN_RATE\n",
      "0        24000         5000      10.65\n",
      "\n",
      "\n",
      "DTI(총부채상환비율) :  24.971647 %\n"
     ]
    }
   ],
   "source": [
    "매년수입 = 24000\n",
    "대출액 = 5000\n",
    "대출이자 = 10.65\n",
    "\n",
    "df = pd.DataFrame([[매년수입, 대출액, 대출이자]],\n",
    "                 columns=['YEAR_INCOME', 'LOAN_AMOUNT', 'LOAN_RATE'])\n",
    "\n",
    "print(df)\n",
    "\n",
    "result = model.predict(df)\n",
    "print('\\n')\n",
    "print('DTI(총부채상환비율) : ', result[0], \"%\")"
   ]
  },
  {
   "cell_type": "code",
   "execution_count": null,
   "id": "718e603b-f0c1-4da7-8dfd-82aa5a1522a3",
   "metadata": {},
   "outputs": [],
   "source": []
  },
  {
   "cell_type": "code",
   "execution_count": null,
   "id": "2f5a7855-cfa7-4f8a-ab11-1a432e66ab9a",
   "metadata": {},
   "outputs": [],
   "source": []
  }
 ],
 "metadata": {
  "kernelspec": {
   "display_name": "Python 3",
   "language": "python",
   "name": "python3"
  },
  "language_info": {
   "codemirror_mode": {
    "name": "ipython",
    "version": 3
   },
   "file_extension": ".py",
   "mimetype": "text/x-python",
   "name": "python",
   "nbconvert_exporter": "python",
   "pygments_lexer": "ipython3",
   "version": "3.8.8"
  }
 },
 "nbformat": 4,
 "nbformat_minor": 5
}
