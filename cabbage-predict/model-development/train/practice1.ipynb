{
 "cells": [
  {
   "cell_type": "code",
   "execution_count": 25,
   "id": "fc9f0528-d00e-42f8-8665-cbc555afe259",
   "metadata": {},
   "outputs": [],
   "source": [
    "import pandas as pd"
   ]
  },
  {
   "cell_type": "code",
   "execution_count": 29,
   "id": "694d1ef1-210e-4c31-9171-2a1067f420e7",
   "metadata": {},
   "outputs": [],
   "source": [
    "from google.cloud import bigquery\n",
    "\n",
    "# Construct a BigQuery client object.\n",
    "client = bigquery.Client()\n",
    "\n",
    "query = \"\"\"\n",
    "SELECT *  FROM `sixth-tempo-323301.test_poc_dataset.cabbage-predict`\n",
    "\"\"\"\n",
    "  # Make an API request.\n"
   ]
  },
  {
   "cell_type": "code",
   "execution_count": 30,
   "id": "1356c777-b957-4968-b6f2-a8521eef93f2",
   "metadata": {},
   "outputs": [],
   "source": [
    "df = client.query(query).to_dataframe()"
   ]
  },
  {
   "cell_type": "code",
   "execution_count": 33,
   "id": "bd711e7b-afbd-4fe9-94d5-3143ec84febd",
   "metadata": {},
   "outputs": [
    {
     "data": {
      "text/plain": [
       "(2922, 6)"
      ]
     },
     "execution_count": 33,
     "metadata": {},
     "output_type": "execute_result"
    }
   ],
   "source": [
    "df.shape"
   ]
  },
  {
   "cell_type": "code",
   "execution_count": 34,
   "id": "9271b58e-1e1d-4602-88cf-0478c29d7d59",
   "metadata": {},
   "outputs": [
    {
     "data": {
      "text/plain": [
       "<bound method NDFrame.head of           year  avgTemp  minTemp  maxTemp  rainFall  avgPrice\n",
       "0     20121205      0.0     -3.8      5.4       6.7      2600\n",
       "1     20130204      2.0     -1.6      6.3       4.2      3702\n",
       "2     20110301      2.5     -0.4      5.6       3.2      4710\n",
       "3     20151203      3.0     -0.3      6.5       3.0      2240\n",
       "4     20160228      4.0     -0.5     10.5       5.8      3147\n",
       "...        ...      ...      ...      ...       ...       ...\n",
       "2917  20140726     25.6     21.6     29.5       1.8      2938\n",
       "2918  20150727     26.6     23.5     30.4       1.8      2821\n",
       "2919  20160823     27.3     23.6     32.2       1.8      5472\n",
       "2920  20140108      2.1     -1.4      5.3       1.8      2429\n",
       "2921  20100618     23.8     20.7     27.9       1.8      2800\n",
       "\n",
       "[2922 rows x 6 columns]>"
      ]
     },
     "execution_count": 34,
     "metadata": {},
     "output_type": "execute_result"
    }
   ],
   "source": [
    "df.head"
   ]
  },
  {
   "cell_type": "code",
   "execution_count": 35,
   "id": "812926a1-e421-46c1-bcc0-8c12e5e2a286",
   "metadata": {},
   "outputs": [
    {
     "data": {
      "text/html": [
       "<div>\n",
       "<style scoped>\n",
       "    .dataframe tbody tr th:only-of-type {\n",
       "        vertical-align: middle;\n",
       "    }\n",
       "\n",
       "    .dataframe tbody tr th {\n",
       "        vertical-align: top;\n",
       "    }\n",
       "\n",
       "    .dataframe thead th {\n",
       "        text-align: right;\n",
       "    }\n",
       "</style>\n",
       "<table border=\"1\" class=\"dataframe\">\n",
       "  <thead>\n",
       "    <tr style=\"text-align: right;\">\n",
       "      <th></th>\n",
       "      <th>year</th>\n",
       "      <th>avgTemp</th>\n",
       "      <th>minTemp</th>\n",
       "      <th>maxTemp</th>\n",
       "      <th>rainFall</th>\n",
       "      <th>avgPrice</th>\n",
       "    </tr>\n",
       "  </thead>\n",
       "  <tbody>\n",
       "    <tr>\n",
       "      <th>0</th>\n",
       "      <td>20121205</td>\n",
       "      <td>0.0</td>\n",
       "      <td>-3.8</td>\n",
       "      <td>5.4</td>\n",
       "      <td>6.7</td>\n",
       "      <td>2600</td>\n",
       "    </tr>\n",
       "    <tr>\n",
       "      <th>1</th>\n",
       "      <td>20130204</td>\n",
       "      <td>2.0</td>\n",
       "      <td>-1.6</td>\n",
       "      <td>6.3</td>\n",
       "      <td>4.2</td>\n",
       "      <td>3702</td>\n",
       "    </tr>\n",
       "    <tr>\n",
       "      <th>2</th>\n",
       "      <td>20110301</td>\n",
       "      <td>2.5</td>\n",
       "      <td>-0.4</td>\n",
       "      <td>5.6</td>\n",
       "      <td>3.2</td>\n",
       "      <td>4710</td>\n",
       "    </tr>\n",
       "    <tr>\n",
       "      <th>3</th>\n",
       "      <td>20151203</td>\n",
       "      <td>3.0</td>\n",
       "      <td>-0.3</td>\n",
       "      <td>6.5</td>\n",
       "      <td>3.0</td>\n",
       "      <td>2240</td>\n",
       "    </tr>\n",
       "    <tr>\n",
       "      <th>4</th>\n",
       "      <td>20160228</td>\n",
       "      <td>4.0</td>\n",
       "      <td>-0.5</td>\n",
       "      <td>10.5</td>\n",
       "      <td>5.8</td>\n",
       "      <td>3147</td>\n",
       "    </tr>\n",
       "  </tbody>\n",
       "</table>\n",
       "</div>"
      ],
      "text/plain": [
       "       year  avgTemp  minTemp  maxTemp  rainFall  avgPrice\n",
       "0  20121205      0.0     -3.8      5.4       6.7      2600\n",
       "1  20130204      2.0     -1.6      6.3       4.2      3702\n",
       "2  20110301      2.5     -0.4      5.6       3.2      4710\n",
       "3  20151203      3.0     -0.3      6.5       3.0      2240\n",
       "4  20160228      4.0     -0.5     10.5       5.8      3147"
      ]
     },
     "execution_count": 35,
     "metadata": {},
     "output_type": "execute_result"
    }
   ],
   "source": [
    "df.head()"
   ]
  },
  {
   "cell_type": "code",
   "execution_count": 39,
   "id": "6bf905e0-ffb8-46d0-b4d2-d4b255f68e97",
   "metadata": {},
   "outputs": [],
   "source": [
    "data_features = ['avgTemp', 'minTemp', 'maxTemp', 'rainFall']"
   ]
  },
  {
   "cell_type": "code",
   "execution_count": 40,
   "id": "6ee43423-638d-4388-baea-f8198b001157",
   "metadata": {},
   "outputs": [],
   "source": [
    "X = df[data_features]"
   ]
  },
  {
   "cell_type": "code",
   "execution_count": 41,
   "id": "7fd4f296-f1a8-4b20-8615-c572b67e3d2c",
   "metadata": {},
   "outputs": [
    {
     "data": {
      "text/html": [
       "<div>\n",
       "<style scoped>\n",
       "    .dataframe tbody tr th:only-of-type {\n",
       "        vertical-align: middle;\n",
       "    }\n",
       "\n",
       "    .dataframe tbody tr th {\n",
       "        vertical-align: top;\n",
       "    }\n",
       "\n",
       "    .dataframe thead th {\n",
       "        text-align: right;\n",
       "    }\n",
       "</style>\n",
       "<table border=\"1\" class=\"dataframe\">\n",
       "  <thead>\n",
       "    <tr style=\"text-align: right;\">\n",
       "      <th></th>\n",
       "      <th>avgTemp</th>\n",
       "      <th>minTemp</th>\n",
       "      <th>maxTemp</th>\n",
       "      <th>rainFall</th>\n",
       "    </tr>\n",
       "  </thead>\n",
       "  <tbody>\n",
       "    <tr>\n",
       "      <th>0</th>\n",
       "      <td>0.0</td>\n",
       "      <td>-3.8</td>\n",
       "      <td>5.4</td>\n",
       "      <td>6.7</td>\n",
       "    </tr>\n",
       "    <tr>\n",
       "      <th>1</th>\n",
       "      <td>2.0</td>\n",
       "      <td>-1.6</td>\n",
       "      <td>6.3</td>\n",
       "      <td>4.2</td>\n",
       "    </tr>\n",
       "    <tr>\n",
       "      <th>2</th>\n",
       "      <td>2.5</td>\n",
       "      <td>-0.4</td>\n",
       "      <td>5.6</td>\n",
       "      <td>3.2</td>\n",
       "    </tr>\n",
       "    <tr>\n",
       "      <th>3</th>\n",
       "      <td>3.0</td>\n",
       "      <td>-0.3</td>\n",
       "      <td>6.5</td>\n",
       "      <td>3.0</td>\n",
       "    </tr>\n",
       "    <tr>\n",
       "      <th>4</th>\n",
       "      <td>4.0</td>\n",
       "      <td>-0.5</td>\n",
       "      <td>10.5</td>\n",
       "      <td>5.8</td>\n",
       "    </tr>\n",
       "  </tbody>\n",
       "</table>\n",
       "</div>"
      ],
      "text/plain": [
       "   avgTemp  minTemp  maxTemp  rainFall\n",
       "0      0.0     -3.8      5.4       6.7\n",
       "1      2.0     -1.6      6.3       4.2\n",
       "2      2.5     -0.4      5.6       3.2\n",
       "3      3.0     -0.3      6.5       3.0\n",
       "4      4.0     -0.5     10.5       5.8"
      ]
     },
     "execution_count": 41,
     "metadata": {},
     "output_type": "execute_result"
    }
   ],
   "source": [
    "X.head()"
   ]
  },
  {
   "cell_type": "code",
   "execution_count": 43,
   "id": "6c7c0a62-8aed-4eb8-9ba2-35ec4f24b7f8",
   "metadata": {},
   "outputs": [],
   "source": [
    "y = df.avgPrice"
   ]
  },
  {
   "cell_type": "code",
   "execution_count": 44,
   "id": "8a7ba917-d639-4c0c-b1a6-ea5e6b250a2d",
   "metadata": {},
   "outputs": [
    {
     "data": {
      "text/plain": [
       "0    2600\n",
       "1    3702\n",
       "2    4710\n",
       "3    2240\n",
       "4    3147\n",
       "Name: avgPrice, dtype: int64"
      ]
     },
     "execution_count": 44,
     "metadata": {},
     "output_type": "execute_result"
    }
   ],
   "source": [
    "y.head()"
   ]
  },
  {
   "cell_type": "code",
   "execution_count": 45,
   "id": "37d674a0-2af8-4d67-88b7-1012b42a1aa6",
   "metadata": {},
   "outputs": [],
   "source": [
    "from sklearn.tree import DecisionTreeRegressor\n",
    "model = DecisionTreeRegressor(random_state=1)"
   ]
  },
  {
   "cell_type": "code",
   "execution_count": 46,
   "id": "f73d8e60-e027-4dc3-bac5-285078c26e44",
   "metadata": {},
   "outputs": [
    {
     "data": {
      "text/plain": [
       "DecisionTreeRegressor(random_state=1)"
      ]
     },
     "execution_count": 46,
     "metadata": {},
     "output_type": "execute_result"
    }
   ],
   "source": [
    "model.fit(X,y)"
   ]
  },
  {
   "cell_type": "code",
   "execution_count": 48,
   "id": "26a438af-c7c1-4089-8471-3930b115cc13",
   "metadata": {},
   "outputs": [
    {
     "data": {
      "text/plain": [
       "0.999125889221821"
      ]
     },
     "execution_count": 48,
     "metadata": {},
     "output_type": "execute_result"
    }
   ],
   "source": [
    "model.score(X,y)"
   ]
  },
  {
   "cell_type": "code",
   "execution_count": 49,
   "id": "5088d599-c174-45c4-9ebd-1dafcd0bb9a2",
   "metadata": {},
   "outputs": [],
   "source": [
    "avgTemp = 0.0\n",
    "minTemp = -3.5\n",
    "maxTemp = 5.1\n",
    "rainFall = 6"
   ]
  },
  {
   "cell_type": "code",
   "execution_count": 50,
   "id": "7398cc83-fa97-4c04-ae25-300992bd7a6b",
   "metadata": {},
   "outputs": [],
   "source": [
    "input_features = [[avgTemp, minTemp, maxTemp, rainFall]]"
   ]
  },
  {
   "cell_type": "code",
   "execution_count": 52,
   "id": "4cb1dc1e-405c-49fc-9abd-3769d1cfa644",
   "metadata": {},
   "outputs": [],
   "source": [
    "result = model.predict(input_features)"
   ]
  },
  {
   "cell_type": "code",
   "execution_count": 58,
   "id": "db8e5f62-1041-41ff-9d73-42a36be41cd1",
   "metadata": {},
   "outputs": [
    {
     "name": "stdout",
     "output_type": "stream",
     "text": [
      "예상 배추값 :  2600.0 원\n"
     ]
    }
   ],
   "source": [
    "print('예상 배추값 : ', result[0], '원')"
   ]
  },
  {
   "cell_type": "code",
   "execution_count": 59,
   "id": "4ce10e96-eefb-4c47-88fb-4949e777c626",
   "metadata": {},
   "outputs": [
    {
     "data": {
      "text/plain": [
       "['./model/practice.pkl']"
      ]
     },
     "execution_count": 59,
     "metadata": {},
     "output_type": "execute_result"
    }
   ],
   "source": [
    "import joblib\n",
    "joblib.dump(model, './model/practice.pkl')"
   ]
  },
  {
   "cell_type": "code",
   "execution_count": 62,
   "id": "ae88ca67-258c-44a7-b253-4b159e132389",
   "metadata": {},
   "outputs": [],
   "source": [
    "loaded_model = joblib.load('./model/practice.pkl')\n"
   ]
  },
  {
   "cell_type": "code",
   "execution_count": 64,
   "id": "d7e6a2a8-b395-4a70-9f9d-23cb82645243",
   "metadata": {},
   "outputs": [
    {
     "name": "stdout",
     "output_type": "stream",
     "text": [
      "0.999125889221821\n"
     ]
    }
   ],
   "source": [
    "score = loaded_model.score(X,y)\n",
    "print(score)"
   ]
  },
  {
   "cell_type": "code",
   "execution_count": 65,
   "id": "380a12c8-2184-4fe7-aa98-c555a68dc13a",
   "metadata": {},
   "outputs": [
    {
     "data": {
      "text/plain": [
       "array([2600., 3702., 4710., ..., 5472., 2429., 2800.])"
      ]
     },
     "execution_count": 65,
     "metadata": {},
     "output_type": "execute_result"
    }
   ],
   "source": [
    "model.predict(X)"
   ]
  },
  {
   "cell_type": "code",
   "execution_count": 66,
   "id": "6a20ec47-31e7-4af7-b9c3-cf6b658e0925",
   "metadata": {},
   "outputs": [
    {
     "ename": "AttributeError",
     "evalue": "'numpy.ndarray' object has no attribute 'head'",
     "output_type": "error",
     "traceback": [
      "\u001b[1;31m---------------------------------------------------------------------------\u001b[0m",
      "\u001b[1;31mAttributeError\u001b[0m                            Traceback (most recent call last)",
      "\u001b[1;32m<ipython-input-66-f6b9c16ba9ae>\u001b[0m in \u001b[0;36m<module>\u001b[1;34m\u001b[0m\n\u001b[1;32m----> 1\u001b[1;33m \u001b[0mmodel\u001b[0m\u001b[1;33m.\u001b[0m\u001b[0mpredict\u001b[0m\u001b[1;33m(\u001b[0m\u001b[0mX\u001b[0m\u001b[1;33m)\u001b[0m\u001b[1;33m.\u001b[0m\u001b[0mhead\u001b[0m\u001b[1;33m(\u001b[0m\u001b[1;33m)\u001b[0m\u001b[1;33m\u001b[0m\u001b[1;33m\u001b[0m\u001b[0m\n\u001b[0m",
      "\u001b[1;31mAttributeError\u001b[0m: 'numpy.ndarray' object has no attribute 'head'"
     ]
    }
   ],
   "source": [
    "model.predict(X).head()"
   ]
  },
  {
   "cell_type": "code",
   "execution_count": null,
   "id": "c4529d90-3461-49ac-ade3-72d4107a2846",
   "metadata": {},
   "outputs": [],
   "source": []
  }
 ],
 "metadata": {
  "kernelspec": {
   "display_name": "Python 3",
   "language": "python",
   "name": "python3"
  },
  "language_info": {
   "codemirror_mode": {
    "name": "ipython",
    "version": 3
   },
   "file_extension": ".py",
   "mimetype": "text/x-python",
   "name": "python",
   "nbconvert_exporter": "python",
   "pygments_lexer": "ipython3",
   "version": "3.8.8"
  }
 },
 "nbformat": 4,
 "nbformat_minor": 5
}
