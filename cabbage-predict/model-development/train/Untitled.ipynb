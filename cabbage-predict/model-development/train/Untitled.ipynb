{
 "cells": [
  {
   "cell_type": "code",
   "execution_count": 1,
   "id": "5367dbb9-df35-4467-a4c8-41fb7ba4224e",
   "metadata": {},
   "outputs": [],
   "source": [
    "import joblib"
   ]
  },
  {
   "cell_type": "code",
   "execution_count": 2,
   "id": "4d3c517a-b9d2-4453-ae86-242610429960",
   "metadata": {},
   "outputs": [],
   "source": [
    "loaded_model = joblib.load('./model/cabb_practice.pkl')"
   ]
  },
  {
   "cell_type": "code",
   "execution_count": 3,
   "id": "5d154529-8cd4-4371-b519-e3be85fed527",
   "metadata": {},
   "outputs": [
    {
     "ename": "NameError",
     "evalue": "name 'X' is not defined",
     "output_type": "error",
     "traceback": [
      "\u001b[1;31m---------------------------------------------------------------------------\u001b[0m",
      "\u001b[1;31mNameError\u001b[0m                                 Traceback (most recent call last)",
      "\u001b[1;32m<ipython-input-3-6782a8db82f6>\u001b[0m in \u001b[0;36m<module>\u001b[1;34m\u001b[0m\n\u001b[1;32m----> 1\u001b[1;33m \u001b[0mscore\u001b[0m \u001b[1;33m=\u001b[0m \u001b[0mloaded_model\u001b[0m\u001b[1;33m.\u001b[0m\u001b[0mscore\u001b[0m\u001b[1;33m(\u001b[0m\u001b[0mX\u001b[0m\u001b[1;33m,\u001b[0m\u001b[0my\u001b[0m\u001b[1;33m)\u001b[0m\u001b[1;33m\u001b[0m\u001b[1;33m\u001b[0m\u001b[0m\n\u001b[0m",
      "\u001b[1;31mNameError\u001b[0m: name 'X' is not defined"
     ]
    }
   ],
   "source": [
    "score = loaded_model.score(X,y)"
   ]
  },
  {
   "cell_type": "code",
   "execution_count": 4,
   "id": "0f39f334-290a-4f6c-88c3-875d0c708b1d",
   "metadata": {},
   "outputs": [],
   "source": [
    "import pandas as pd\n",
    "file_path = './data/price_data.csv'"
   ]
  },
  {
   "cell_type": "code",
   "execution_count": 5,
   "id": "eda38614-7ee3-4e7c-b7e4-2d09d530d2bd",
   "metadata": {},
   "outputs": [],
   "source": [
    "df = pd.read_csv(file_path)"
   ]
  },
  {
   "cell_type": "code",
   "execution_count": 6,
   "id": "46aee3d9-21b1-43e8-a169-b389dcfaaff6",
   "metadata": {},
   "outputs": [
    {
     "data": {
      "text/plain": [
       "(2922, 6)"
      ]
     },
     "execution_count": 6,
     "metadata": {},
     "output_type": "execute_result"
    }
   ],
   "source": [
    "df.shape"
   ]
  },
  {
   "cell_type": "code",
   "execution_count": 7,
   "id": "6061afc1-39c1-40bc-8d55-654884f7f33e",
   "metadata": {},
   "outputs": [
    {
     "ename": "NameError",
     "evalue": "name 'data_features' is not defined",
     "output_type": "error",
     "traceback": [
      "\u001b[1;31m---------------------------------------------------------------------------\u001b[0m",
      "\u001b[1;31mNameError\u001b[0m                                 Traceback (most recent call last)",
      "\u001b[1;32m<ipython-input-7-92c1429a5d54>\u001b[0m in \u001b[0;36m<module>\u001b[1;34m\u001b[0m\n\u001b[1;32m----> 1\u001b[1;33m \u001b[0mX\u001b[0m \u001b[1;33m=\u001b[0m \u001b[0mdf\u001b[0m\u001b[1;33m[\u001b[0m\u001b[0mdata_features\u001b[0m\u001b[1;33m]\u001b[0m\u001b[1;33m\u001b[0m\u001b[1;33m\u001b[0m\u001b[0m\n\u001b[0m",
      "\u001b[1;31mNameError\u001b[0m: name 'data_features' is not defined"
     ]
    }
   ],
   "source": [
    "X = df[data_features]"
   ]
  },
  {
   "cell_type": "code",
   "execution_count": 8,
   "id": "3eaf2e39-62ff-470e-9778-32dd7e18efad",
   "metadata": {},
   "outputs": [],
   "source": [
    "data_features = ['avgTemp', 'rainFall']"
   ]
  },
  {
   "cell_type": "code",
   "execution_count": 9,
   "id": "c1f89776-1e84-43fc-9452-bb8b73259742",
   "metadata": {},
   "outputs": [],
   "source": [
    "X = df[data_features]"
   ]
  },
  {
   "cell_type": "code",
   "execution_count": 10,
   "id": "511fb8fd-52c8-4afa-bbfe-123c0c3d64fe",
   "metadata": {},
   "outputs": [],
   "source": [
    "y = df.avgPrice"
   ]
  },
  {
   "cell_type": "code",
   "execution_count": 11,
   "id": "851c97a6-5dac-4fda-a171-c4e14e2c6579",
   "metadata": {},
   "outputs": [],
   "source": [
    "score = loaded_model.score(X,y)"
   ]
  },
  {
   "cell_type": "code",
   "execution_count": 12,
   "id": "ac0d58dd-ca14-460c-8f05-3cb2bc03b038",
   "metadata": {},
   "outputs": [
    {
     "data": {
      "text/plain": [
       "0.6833367639364494"
      ]
     },
     "execution_count": 12,
     "metadata": {},
     "output_type": "execute_result"
    }
   ],
   "source": [
    "score"
   ]
  },
  {
   "cell_type": "code",
   "execution_count": null,
   "id": "c07eaafc-a7a6-4f8e-8fc9-76ef4d49cefb",
   "metadata": {},
   "outputs": [],
   "source": []
  }
 ],
 "metadata": {
  "kernelspec": {
   "display_name": "Python 3",
   "language": "python",
   "name": "python3"
  },
  "language_info": {
   "codemirror_mode": {
    "name": "ipython",
    "version": 3
   },
   "file_extension": ".py",
   "mimetype": "text/x-python",
   "name": "python",
   "nbconvert_exporter": "python",
   "pygments_lexer": "ipython3",
   "version": "3.8.8"
  }
 },
 "nbformat": 4,
 "nbformat_minor": 5
}
