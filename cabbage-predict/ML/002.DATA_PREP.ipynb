{
 "cells": [
  {
   "cell_type": "code",
   "execution_count": 9,
   "id": "7542cfd0-c05a-477e-9759-6005c7fbd6c6",
   "metadata": {},
   "outputs": [],
   "source": [
    "import pandas as pd\n",
    "import numpy as np\n",
    "\n",
    "df = pd.read_csv('./data/bankloan_dataset_local.csv')"
   ]
  },
  {
   "cell_type": "code",
   "execution_count": 10,
   "id": "f0b864f6-b78e-4ce1-8996-4c5458ed7706",
   "metadata": {},
   "outputs": [
    {
     "data": {
      "text/html": [
       "<div>\n",
       "<style scoped>\n",
       "    .dataframe tbody tr th:only-of-type {\n",
       "        vertical-align: middle;\n",
       "    }\n",
       "\n",
       "    .dataframe tbody tr th {\n",
       "        vertical-align: top;\n",
       "    }\n",
       "\n",
       "    .dataframe thead th {\n",
       "        text-align: right;\n",
       "    }\n",
       "</style>\n",
       "<table border=\"1\" class=\"dataframe\">\n",
       "  <thead>\n",
       "    <tr style=\"text-align: right;\">\n",
       "      <th></th>\n",
       "      <th>Unnamed: 0</th>\n",
       "      <th>CUSTOMER_ID</th>\n",
       "      <th>LOAN_YEAR</th>\n",
       "      <th>LOAN_DT</th>\n",
       "      <th>WORK_TERM</th>\n",
       "      <th>HOME_OWNERSHIP</th>\n",
       "      <th>INCOME_LEVEL</th>\n",
       "      <th>YEAR_INCOME</th>\n",
       "      <th>LOAN_AMOUNT</th>\n",
       "      <th>LOAN_TERM</th>\n",
       "      <th>...</th>\n",
       "      <th>LOAN_STATUS</th>\n",
       "      <th>LOAN_RATE</th>\n",
       "      <th>CUSTOMER_LEVEL</th>\n",
       "      <th>DTI</th>\n",
       "      <th>LAST_PAYMENT</th>\n",
       "      <th>TOTAL_RECV_PRINCIPAL</th>\n",
       "      <th>RECV_LOAN</th>\n",
       "      <th>INSTALLMENT_PAYMENT</th>\n",
       "      <th>AREA</th>\n",
       "      <th>CUSTOMER_GRADE</th>\n",
       "    </tr>\n",
       "  </thead>\n",
       "  <tbody>\n",
       "    <tr>\n",
       "      <th>0</th>\n",
       "      <td>0</td>\n",
       "      <td>231321</td>\n",
       "      <td>2008</td>\n",
       "      <td>2008-01-01</td>\n",
       "      <td>5.0</td>\n",
       "      <td>NONE</td>\n",
       "      <td>Low</td>\n",
       "      <td>22200</td>\n",
       "      <td>10000</td>\n",
       "      <td>36 months</td>\n",
       "      <td>...</td>\n",
       "      <td>Good Loan</td>\n",
       "      <td>7.75</td>\n",
       "      <td>A</td>\n",
       "      <td>52.03</td>\n",
       "      <td>11239.56</td>\n",
       "      <td>9999.99</td>\n",
       "      <td>0.0</td>\n",
       "      <td>312.22</td>\n",
       "      <td>leinster</td>\n",
       "      <td>E</td>\n",
       "    </tr>\n",
       "    <tr>\n",
       "      <th>1</th>\n",
       "      <td>1</td>\n",
       "      <td>79893</td>\n",
       "      <td>2007</td>\n",
       "      <td>2007-01-07</td>\n",
       "      <td>0.5</td>\n",
       "      <td>NONE</td>\n",
       "      <td>Low</td>\n",
       "      <td>75027</td>\n",
       "      <td>6700</td>\n",
       "      <td>36 months</td>\n",
       "      <td>...</td>\n",
       "      <td>Good Loan</td>\n",
       "      <td>7.75</td>\n",
       "      <td>A</td>\n",
       "      <td>10.31</td>\n",
       "      <td>7530.42</td>\n",
       "      <td>6700.00</td>\n",
       "      <td>0.0</td>\n",
       "      <td>209.18</td>\n",
       "      <td>Northern-Irl</td>\n",
       "      <td>B</td>\n",
       "    </tr>\n",
       "    <tr>\n",
       "      <th>2</th>\n",
       "      <td>2</td>\n",
       "      <td>79924</td>\n",
       "      <td>2007</td>\n",
       "      <td>2007-01-08</td>\n",
       "      <td>0.5</td>\n",
       "      <td>NONE</td>\n",
       "      <td>Low</td>\n",
       "      <td>75027</td>\n",
       "      <td>7000</td>\n",
       "      <td>36 months</td>\n",
       "      <td>...</td>\n",
       "      <td>Good Loan</td>\n",
       "      <td>7.75</td>\n",
       "      <td>A</td>\n",
       "      <td>10.78</td>\n",
       "      <td>7867.53</td>\n",
       "      <td>7000.00</td>\n",
       "      <td>0.0</td>\n",
       "      <td>218.55</td>\n",
       "      <td>Northern-Irl</td>\n",
       "      <td>B</td>\n",
       "    </tr>\n",
       "  </tbody>\n",
       "</table>\n",
       "<p>3 rows × 23 columns</p>\n",
       "</div>"
      ],
      "text/plain": [
       "   Unnamed: 0  CUSTOMER_ID  LOAN_YEAR     LOAN_DT  WORK_TERM HOME_OWNERSHIP  \\\n",
       "0           0       231321       2008  2008-01-01        5.0           NONE   \n",
       "1           1        79893       2007  2007-01-07        0.5           NONE   \n",
       "2           2        79924       2007  2007-01-08        0.5           NONE   \n",
       "\n",
       "  INCOME_LEVEL  YEAR_INCOME  LOAN_AMOUNT   LOAN_TERM  ... LOAN_STATUS  \\\n",
       "0          Low        22200        10000   36 months  ...   Good Loan   \n",
       "1          Low        75027         6700   36 months  ...   Good Loan   \n",
       "2          Low        75027         7000   36 months  ...   Good Loan   \n",
       "\n",
       "  LOAN_RATE CUSTOMER_LEVEL    DTI  LAST_PAYMENT TOTAL_RECV_PRINCIPAL  \\\n",
       "0      7.75              A  52.03      11239.56              9999.99   \n",
       "1      7.75              A  10.31       7530.42              6700.00   \n",
       "2      7.75              A  10.78       7867.53              7000.00   \n",
       "\n",
       "   RECV_LOAN  INSTALLMENT_PAYMENT          AREA  CUSTOMER_GRADE  \n",
       "0        0.0               312.22      leinster               E  \n",
       "1        0.0               209.18  Northern-Irl               B  \n",
       "2        0.0               218.55  Northern-Irl               B  \n",
       "\n",
       "[3 rows x 23 columns]"
      ]
     },
     "execution_count": 10,
     "metadata": {},
     "output_type": "execute_result"
    }
   ],
   "source": [
    "df.head(3)"
   ]
  },
  {
   "cell_type": "code",
   "execution_count": 14,
   "id": "4980f7fb-dfd9-4a62-baff-062da93b5f52",
   "metadata": {},
   "outputs": [
    {
     "data": {
      "text/plain": [
       "array(['NONE', 'OTHER', 'ANY', 'OWN', 'RENT', 'MORTGAGE'], dtype=object)"
      ]
     },
     "execution_count": 14,
     "metadata": {},
     "output_type": "execute_result"
    }
   ],
   "source": [
    "df['HOME_OWNERSHIP'].unique()"
   ]
  },
  {
   "cell_type": "code",
   "execution_count": 15,
   "id": "fd6131b4-85a2-4c9c-ac88-8129acc320bb",
   "metadata": {},
   "outputs": [
    {
     "data": {
      "text/plain": [
       "array(['E', 'B', 'A', 'D', 'C'], dtype=object)"
      ]
     },
     "execution_count": 15,
     "metadata": {},
     "output_type": "execute_result"
    }
   ],
   "source": [
    "df['CUSTOMER_GRADE'].unique()"
   ]
  },
  {
   "cell_type": "code",
   "execution_count": 16,
   "id": "10c8054f-e355-4933-980f-2cd1f1f5b767",
   "metadata": {},
   "outputs": [
    {
     "name": "stdout",
     "output_type": "stream",
     "text": [
      "[2 2 2 ... 1 1 1]\n",
      "[0 1 2 3 4 5]\n"
     ]
    }
   ],
   "source": [
    "#레이블 인코딩 과정\n",
    "from sklearn.preprocessing import LabelEncoder\n",
    "\n",
    "encoder = LabelEncoder()\n",
    "result = encoder.fit_transform(df['HOME_OWNERSHIP'])\n",
    "print(result)\n",
    "print(np.unique(result))\n",
    "#np : index번호를 뽑아라, 단 뭐가 1번이고 2번이되는지 모른다. 알파벳 순일 가능성 높음\n",
    "#df에 'HOME_OWNERSHIP_LE'라는 컬럼 추가\n",
    "\n",
    "df['HOME_OWNERSHIP_LE'] = result"
   ]
  },
  {
   "cell_type": "code",
   "execution_count": null,
   "id": "9c74a4a9-c0d3-44dc-a29d-9e80f3517515",
   "metadata": {},
   "outputs": [],
   "source": []
  },
  {
   "cell_type": "code",
   "execution_count": 17,
   "id": "f75b5c60-8ed0-44e0-85d3-9d97a9fd8cbb",
   "metadata": {},
   "outputs": [
    {
     "name": "stdout",
     "output_type": "stream",
     "text": [
      "[4 1 1 ... 4 4 1]\n",
      "[0 1 2 3 4]\n"
     ]
    }
   ],
   "source": [
    "#CUSTOMER_GRADE 인코딩 과정\n",
    "encoder = LabelEncoder()\n",
    "result = encoder.fit_transform(df['CUSTOMER_GRADE'])\n",
    "print(result)\n",
    "print(np.unique(result))\n",
    "#np : index번호를 뽑아라, 단 뭐가 1번이고 2번이되는지 모른다. 알파벳 순일 가능성 높음\n",
    "\n",
    "#le = label encoder\n",
    "df['CUSTOMER_GRADE_LE'] = result"
   ]
  },
  {
   "cell_type": "code",
   "execution_count": 18,
   "id": "5bcfb061-54bc-4e55-ae8a-9aead92d34ed",
   "metadata": {},
   "outputs": [],
   "source": [
    "df = df.replace({'INTEREST_LEVEL': 'Low'}, {'INTEREST_LEVEL': 0})\n",
    "df = df.replace({'INTEREST_LEVEL': 'High'}, {'INTEREST_LEVEL': 1})"
   ]
  },
  {
   "cell_type": "code",
   "execution_count": 19,
   "id": "d4f395cb-ca5f-4d2a-a38f-2497446be1c5",
   "metadata": {},
   "outputs": [
    {
     "data": {
      "text/html": [
       "<div>\n",
       "<style scoped>\n",
       "    .dataframe tbody tr th:only-of-type {\n",
       "        vertical-align: middle;\n",
       "    }\n",
       "\n",
       "    .dataframe tbody tr th {\n",
       "        vertical-align: top;\n",
       "    }\n",
       "\n",
       "    .dataframe thead th {\n",
       "        text-align: right;\n",
       "    }\n",
       "</style>\n",
       "<table border=\"1\" class=\"dataframe\">\n",
       "  <thead>\n",
       "    <tr style=\"text-align: right;\">\n",
       "      <th></th>\n",
       "      <th>Unnamed: 0</th>\n",
       "      <th>CUSTOMER_ID</th>\n",
       "      <th>LOAN_YEAR</th>\n",
       "      <th>LOAN_DT</th>\n",
       "      <th>WORK_TERM</th>\n",
       "      <th>HOME_OWNERSHIP</th>\n",
       "      <th>INCOME_LEVEL</th>\n",
       "      <th>YEAR_INCOME</th>\n",
       "      <th>LOAN_AMOUNT</th>\n",
       "      <th>LOAN_TERM</th>\n",
       "      <th>...</th>\n",
       "      <th>CUSTOMER_LEVEL</th>\n",
       "      <th>DTI</th>\n",
       "      <th>LAST_PAYMENT</th>\n",
       "      <th>TOTAL_RECV_PRINCIPAL</th>\n",
       "      <th>RECV_LOAN</th>\n",
       "      <th>INSTALLMENT_PAYMENT</th>\n",
       "      <th>AREA</th>\n",
       "      <th>CUSTOMER_GRADE</th>\n",
       "      <th>HOME_OWNERSHIP_LE</th>\n",
       "      <th>CUSTOMER_GRADE_LE</th>\n",
       "    </tr>\n",
       "  </thead>\n",
       "  <tbody>\n",
       "    <tr>\n",
       "      <th>0</th>\n",
       "      <td>0</td>\n",
       "      <td>231321</td>\n",
       "      <td>2008</td>\n",
       "      <td>2008-01-01</td>\n",
       "      <td>5.0</td>\n",
       "      <td>NONE</td>\n",
       "      <td>Low</td>\n",
       "      <td>22200</td>\n",
       "      <td>10000</td>\n",
       "      <td>36 months</td>\n",
       "      <td>...</td>\n",
       "      <td>A</td>\n",
       "      <td>52.03</td>\n",
       "      <td>11239.56</td>\n",
       "      <td>9999.99</td>\n",
       "      <td>0.0</td>\n",
       "      <td>312.22</td>\n",
       "      <td>leinster</td>\n",
       "      <td>E</td>\n",
       "      <td>2</td>\n",
       "      <td>4</td>\n",
       "    </tr>\n",
       "    <tr>\n",
       "      <th>1</th>\n",
       "      <td>1</td>\n",
       "      <td>79893</td>\n",
       "      <td>2007</td>\n",
       "      <td>2007-01-07</td>\n",
       "      <td>0.5</td>\n",
       "      <td>NONE</td>\n",
       "      <td>Low</td>\n",
       "      <td>75027</td>\n",
       "      <td>6700</td>\n",
       "      <td>36 months</td>\n",
       "      <td>...</td>\n",
       "      <td>A</td>\n",
       "      <td>10.31</td>\n",
       "      <td>7530.42</td>\n",
       "      <td>6700.00</td>\n",
       "      <td>0.0</td>\n",
       "      <td>209.18</td>\n",
       "      <td>Northern-Irl</td>\n",
       "      <td>B</td>\n",
       "      <td>2</td>\n",
       "      <td>1</td>\n",
       "    </tr>\n",
       "    <tr>\n",
       "      <th>2</th>\n",
       "      <td>2</td>\n",
       "      <td>79924</td>\n",
       "      <td>2007</td>\n",
       "      <td>2007-01-08</td>\n",
       "      <td>0.5</td>\n",
       "      <td>NONE</td>\n",
       "      <td>Low</td>\n",
       "      <td>75027</td>\n",
       "      <td>7000</td>\n",
       "      <td>36 months</td>\n",
       "      <td>...</td>\n",
       "      <td>A</td>\n",
       "      <td>10.78</td>\n",
       "      <td>7867.53</td>\n",
       "      <td>7000.00</td>\n",
       "      <td>0.0</td>\n",
       "      <td>218.55</td>\n",
       "      <td>Northern-Irl</td>\n",
       "      <td>B</td>\n",
       "      <td>2</td>\n",
       "      <td>1</td>\n",
       "    </tr>\n",
       "  </tbody>\n",
       "</table>\n",
       "<p>3 rows × 25 columns</p>\n",
       "</div>"
      ],
      "text/plain": [
       "   Unnamed: 0  CUSTOMER_ID  LOAN_YEAR     LOAN_DT  WORK_TERM HOME_OWNERSHIP  \\\n",
       "0           0       231321       2008  2008-01-01        5.0           NONE   \n",
       "1           1        79893       2007  2007-01-07        0.5           NONE   \n",
       "2           2        79924       2007  2007-01-08        0.5           NONE   \n",
       "\n",
       "  INCOME_LEVEL  YEAR_INCOME  LOAN_AMOUNT   LOAN_TERM  ... CUSTOMER_LEVEL  \\\n",
       "0          Low        22200        10000   36 months  ...              A   \n",
       "1          Low        75027         6700   36 months  ...              A   \n",
       "2          Low        75027         7000   36 months  ...              A   \n",
       "\n",
       "     DTI  LAST_PAYMENT TOTAL_RECV_PRINCIPAL  RECV_LOAN INSTALLMENT_PAYMENT  \\\n",
       "0  52.03      11239.56              9999.99        0.0              312.22   \n",
       "1  10.31       7530.42              6700.00        0.0              209.18   \n",
       "2  10.78       7867.53              7000.00        0.0              218.55   \n",
       "\n",
       "           AREA  CUSTOMER_GRADE  HOME_OWNERSHIP_LE  CUSTOMER_GRADE_LE  \n",
       "0      leinster               E                  2                  4  \n",
       "1  Northern-Irl               B                  2                  1  \n",
       "2  Northern-Irl               B                  2                  1  \n",
       "\n",
       "[3 rows x 25 columns]"
      ]
     },
     "execution_count": 19,
     "metadata": {},
     "output_type": "execute_result"
    }
   ],
   "source": [
    "df = df.dropna(axis = 0)\n",
    "\n",
    "df.head(3)"
   ]
  },
  {
   "cell_type": "code",
   "execution_count": 20,
   "id": "bde1c205-916d-4c3b-9b18-e8b15e805337",
   "metadata": {},
   "outputs": [
    {
     "data": {
      "text/plain": [
       "Unnamed: 0              0\n",
       "CUSTOMER_ID             0\n",
       "LOAN_YEAR               0\n",
       "LOAN_DT                 0\n",
       "WORK_TERM               0\n",
       "HOME_OWNERSHIP          0\n",
       "INCOME_LEVEL            0\n",
       "YEAR_INCOME             0\n",
       "LOAN_AMOUNT             0\n",
       "LOAN_TERM               0\n",
       "LOAN_METHOD             0\n",
       "LOAN_PURPOSE            0\n",
       "INTEREST_LEVEL          0\n",
       "LOAN_STATUS             0\n",
       "LOAN_RATE               0\n",
       "CUSTOMER_LEVEL          0\n",
       "DTI                     0\n",
       "LAST_PAYMENT            0\n",
       "TOTAL_RECV_PRINCIPAL    0\n",
       "RECV_LOAN               0\n",
       "INSTALLMENT_PAYMENT     0\n",
       "AREA                    0\n",
       "CUSTOMER_GRADE          0\n",
       "HOME_OWNERSHIP_LE       0\n",
       "CUSTOMER_GRADE_LE       0\n",
       "dtype: int64"
      ]
     },
     "execution_count": 20,
     "metadata": {},
     "output_type": "execute_result"
    }
   ],
   "source": [
    "#alt + enter하면 새로운 줄\n",
    "df.isnull().sum()"
   ]
  },
  {
   "cell_type": "code",
   "execution_count": 21,
   "id": "a136f830-00b1-4007-a0a9-c74556205461",
   "metadata": {},
   "outputs": [],
   "source": [
    "#불러온파일원본명_prep.csv 로 저장\n",
    "df.to_csv(\"./data/bankloan_dataset_prep.csv\")"
   ]
  },
  {
   "cell_type": "code",
   "execution_count": null,
   "id": "2d2c0d21-367f-46a7-87cc-5e0b98fd0718",
   "metadata": {},
   "outputs": [],
   "source": []
  }
 ],
 "metadata": {
  "kernelspec": {
   "display_name": "Python 3",
   "language": "python",
   "name": "python3"
  },
  "language_info": {
   "codemirror_mode": {
    "name": "ipython",
    "version": 3
   },
   "file_extension": ".py",
   "mimetype": "text/x-python",
   "name": "python",
   "nbconvert_exporter": "python",
   "pygments_lexer": "ipython3",
   "version": "3.8.8"
  }
 },
 "nbformat": 4,
 "nbformat_minor": 5
}
