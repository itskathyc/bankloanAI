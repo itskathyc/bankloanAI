{
 "cells": [
  {
   "cell_type": "code",
   "execution_count": 43,
   "id": "78432189-f8fe-46c2-b230-6d60cfd1e3c9",
   "metadata": {},
   "outputs": [],
   "source": [
    "import joblib\n",
    "import pandas as pd"
   ]
  },
  {
   "cell_type": "code",
   "execution_count": 48,
   "id": "a1286ad9-c123-45ff-b85e-1fe84a8c2222",
   "metadata": {},
   "outputs": [],
   "source": [
    "model = joblib.load('./model/dti_model_xgboost2.pkl')"
   ]
  },
  {
   "cell_type": "code",
   "execution_count": 52,
   "id": "80d68392-becf-4ee2-8517-111ad53cb280",
   "metadata": {},
   "outputs": [],
   "source": [
    "#X = pd.DataFrame([['YEAR_INCOME', 'LOAN_AMOUNT', 'LOAN_RATE']])\n",
    "#단위 $\n",
    "\n",
    "매년수입 = 24000\n",
    "대출액 = 5000\n",
    "대출이자 = 10.65\n",
    "\n",
    "df = pd.DataFrame([[매년수입, 대출액, 대출이자]],\n",
    "                 columns=['YEAR_INCOME', 'LOAN_AMOUNT', 'LOAN_RATE'])\n",
    "# X = [[3, 4, 10000]] 로 변경가능, 즉 - 여러가지 데이터에 따른 결과값을 볼 수 있는것 [오너십, 워크텀, 한 해 인컴]\n"
   ]
  },
  {
   "cell_type": "code",
   "execution_count": 53,
   "id": "f22a9c06-4500-4b77-ba87-b7fb516fa497",
   "metadata": {},
   "outputs": [],
   "source": [
    "result = model.predict(df)"
   ]
  },
  {
   "cell_type": "code",
   "execution_count": 54,
   "id": "81c123cd-4cba-4c9f-9dfa-6a47cd26c52f",
   "metadata": {},
   "outputs": [
    {
     "name": "stdout",
     "output_type": "stream",
     "text": [
      "DTI :  24.971647 %\n"
     ]
    }
   ],
   "source": [
    "print('DTI : ' , result[0], '%')"
   ]
  },
  {
   "cell_type": "code",
   "execution_count": null,
   "id": "a37e227c-13da-4446-ad8e-2bd08b50c83d",
   "metadata": {},
   "outputs": [],
   "source": []
  }
 ],
 "metadata": {
  "kernelspec": {
   "display_name": "Python 3",
   "language": "python",
   "name": "python3"
  },
  "language_info": {
   "codemirror_mode": {
    "name": "ipython",
    "version": 3
   },
   "file_extension": ".py",
   "mimetype": "text/x-python",
   "name": "python",
   "nbconvert_exporter": "python",
   "pygments_lexer": "ipython3",
   "version": "3.8.8"
  }
 },
 "nbformat": 4,
 "nbformat_minor": 5
}
