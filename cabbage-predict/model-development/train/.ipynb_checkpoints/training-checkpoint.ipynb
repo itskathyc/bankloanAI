{
 "cells": [
  {
   "cell_type": "code",
   "execution_count": 1,
   "id": "c5db51e6-48f6-4174-812c-78b5252d6328",
   "metadata": {},
   "outputs": [],
   "source": [
    "import pandas as pd\n",
    "#Pandas는 파이썬에서 사용하는 데이터분석 라이브러리로\n",
    "#행과 열로 이루어진 데이터 객체를 만들어 다룰 수 있게 되며 보다 안정적으로 대용량의 데이터들을 처리하는데 매우 편리한 도구이다.\n",
    "#질문 - 판다스는 csv파일만 읽을 수 있는건가? "
   ]
  },
  {
   "cell_type": "code",
   "execution_count": 19,
   "id": "fdb27c47-0309-401c-993e-9876d5ed116f",
   "metadata": {},
   "outputs": [],
   "source": [
    "file_path = \"./data/price_data.csv\"\n",
    "#df = dataframe\n",
    "df = pd.read_csv(file_path) "
   ]
  },
  {
   "cell_type": "code",
   "execution_count": 4,
   "id": "d51efeec-18ba-4243-b83a-47bb0e6dff19",
   "metadata": {},
   "outputs": [
    {
     "data": {
      "text/plain": [
       "(2922, 6)"
      ]
     },
     "execution_count": 4,
     "metadata": {},
     "output_type": "execute_result"
    }
   ],
   "source": [
    "#dataframe의 행열갯수 (2922줄, 6열)\n",
    "df.shape"
   ]
  },
  {
   "cell_type": "code",
   "execution_count": 5,
   "id": "35cd9258-10b9-4ff6-bbeb-a8fc487b33fe",
   "metadata": {},
   "outputs": [
    {
     "data": {
      "text/html": [
       "<div>\n",
       "<style scoped>\n",
       "    .dataframe tbody tr th:only-of-type {\n",
       "        vertical-align: middle;\n",
       "    }\n",
       "\n",
       "    .dataframe tbody tr th {\n",
       "        vertical-align: top;\n",
       "    }\n",
       "\n",
       "    .dataframe thead th {\n",
       "        text-align: right;\n",
       "    }\n",
       "</style>\n",
       "<table border=\"1\" class=\"dataframe\">\n",
       "  <thead>\n",
       "    <tr style=\"text-align: right;\">\n",
       "      <th></th>\n",
       "      <th>year</th>\n",
       "      <th>avgTemp</th>\n",
       "      <th>minTemp</th>\n",
       "      <th>maxTemp</th>\n",
       "      <th>rainFall</th>\n",
       "      <th>avgPrice</th>\n",
       "    </tr>\n",
       "  </thead>\n",
       "  <tbody>\n",
       "    <tr>\n",
       "      <th>0</th>\n",
       "      <td>20100101</td>\n",
       "      <td>-4.9</td>\n",
       "      <td>-11.0</td>\n",
       "      <td>0.9</td>\n",
       "      <td>0.0</td>\n",
       "      <td>2123</td>\n",
       "    </tr>\n",
       "    <tr>\n",
       "      <th>1</th>\n",
       "      <td>20100102</td>\n",
       "      <td>-3.1</td>\n",
       "      <td>-5.5</td>\n",
       "      <td>5.5</td>\n",
       "      <td>0.8</td>\n",
       "      <td>2123</td>\n",
       "    </tr>\n",
       "    <tr>\n",
       "      <th>2</th>\n",
       "      <td>20100103</td>\n",
       "      <td>-2.9</td>\n",
       "      <td>-6.9</td>\n",
       "      <td>1.4</td>\n",
       "      <td>0.0</td>\n",
       "      <td>2123</td>\n",
       "    </tr>\n",
       "    <tr>\n",
       "      <th>3</th>\n",
       "      <td>20100104</td>\n",
       "      <td>-1.8</td>\n",
       "      <td>-5.1</td>\n",
       "      <td>2.2</td>\n",
       "      <td>5.9</td>\n",
       "      <td>2020</td>\n",
       "    </tr>\n",
       "    <tr>\n",
       "      <th>4</th>\n",
       "      <td>20100105</td>\n",
       "      <td>-5.2</td>\n",
       "      <td>-8.7</td>\n",
       "      <td>-1.8</td>\n",
       "      <td>0.7</td>\n",
       "      <td>2060</td>\n",
       "    </tr>\n",
       "  </tbody>\n",
       "</table>\n",
       "</div>"
      ],
      "text/plain": [
       "       year  avgTemp  minTemp  maxTemp  rainFall  avgPrice\n",
       "0  20100101     -4.9    -11.0      0.9       0.0      2123\n",
       "1  20100102     -3.1     -5.5      5.5       0.8      2123\n",
       "2  20100103     -2.9     -6.9      1.4       0.0      2123\n",
       "3  20100104     -1.8     -5.1      2.2       5.9      2020\n",
       "4  20100105     -5.2     -8.7     -1.8       0.7      2060"
      ]
     },
     "execution_count": 5,
     "metadata": {},
     "output_type": "execute_result"
    }
   ],
   "source": [
    "df.head()"
   ]
  },
  {
   "cell_type": "code",
   "execution_count": 6,
   "id": "6104bf48-8c85-4fb3-b34a-ce3edb09d66c",
   "metadata": {},
   "outputs": [],
   "source": [
    "data_features = ['avgTemp', 'minTemp', 'maxTemp', 'rainFall']\n",
    "#질문 : 추출할 데이터를 뽑는건가? "
   ]
  },
  {
   "cell_type": "code",
   "execution_count": 7,
   "id": "beecb57a-3f3e-42f9-86b8-3c6e5bcc6f3b",
   "metadata": {},
   "outputs": [
    {
     "data": {
      "text/html": [
       "<div>\n",
       "<style scoped>\n",
       "    .dataframe tbody tr th:only-of-type {\n",
       "        vertical-align: middle;\n",
       "    }\n",
       "\n",
       "    .dataframe tbody tr th {\n",
       "        vertical-align: top;\n",
       "    }\n",
       "\n",
       "    .dataframe thead th {\n",
       "        text-align: right;\n",
       "    }\n",
       "</style>\n",
       "<table border=\"1\" class=\"dataframe\">\n",
       "  <thead>\n",
       "    <tr style=\"text-align: right;\">\n",
       "      <th></th>\n",
       "      <th>avgTemp</th>\n",
       "      <th>minTemp</th>\n",
       "      <th>maxTemp</th>\n",
       "      <th>rainFall</th>\n",
       "    </tr>\n",
       "  </thead>\n",
       "  <tbody>\n",
       "    <tr>\n",
       "      <th>0</th>\n",
       "      <td>-4.9</td>\n",
       "      <td>-11.0</td>\n",
       "      <td>0.9</td>\n",
       "      <td>0.0</td>\n",
       "    </tr>\n",
       "    <tr>\n",
       "      <th>1</th>\n",
       "      <td>-3.1</td>\n",
       "      <td>-5.5</td>\n",
       "      <td>5.5</td>\n",
       "      <td>0.8</td>\n",
       "    </tr>\n",
       "    <tr>\n",
       "      <th>2</th>\n",
       "      <td>-2.9</td>\n",
       "      <td>-6.9</td>\n",
       "      <td>1.4</td>\n",
       "      <td>0.0</td>\n",
       "    </tr>\n",
       "    <tr>\n",
       "      <th>3</th>\n",
       "      <td>-1.8</td>\n",
       "      <td>-5.1</td>\n",
       "      <td>2.2</td>\n",
       "      <td>5.9</td>\n",
       "    </tr>\n",
       "    <tr>\n",
       "      <th>4</th>\n",
       "      <td>-5.2</td>\n",
       "      <td>-8.7</td>\n",
       "      <td>-1.8</td>\n",
       "      <td>0.7</td>\n",
       "    </tr>\n",
       "  </tbody>\n",
       "</table>\n",
       "</div>"
      ],
      "text/plain": [
       "   avgTemp  minTemp  maxTemp  rainFall\n",
       "0     -4.9    -11.0      0.9       0.0\n",
       "1     -3.1     -5.5      5.5       0.8\n",
       "2     -2.9     -6.9      1.4       0.0\n",
       "3     -1.8     -5.1      2.2       5.9\n",
       "4     -5.2     -8.7     -1.8       0.7"
      ]
     },
     "execution_count": 7,
     "metadata": {},
     "output_type": "execute_result"
    }
   ],
   "source": [
    "#X는 특색, 대문자로 하자고 정함\n",
    "X = df[data_features]\n",
    "X.head()"
   ]
  },
  {
   "cell_type": "code",
   "execution_count": 8,
   "id": "f9487ea5-8764-43bb-aec5-fd5e7dbc3f0a",
   "metadata": {},
   "outputs": [
    {
     "data": {
      "text/html": [
       "<div>\n",
       "<style scoped>\n",
       "    .dataframe tbody tr th:only-of-type {\n",
       "        vertical-align: middle;\n",
       "    }\n",
       "\n",
       "    .dataframe tbody tr th {\n",
       "        vertical-align: top;\n",
       "    }\n",
       "\n",
       "    .dataframe thead th {\n",
       "        text-align: right;\n",
       "    }\n",
       "</style>\n",
       "<table border=\"1\" class=\"dataframe\">\n",
       "  <thead>\n",
       "    <tr style=\"text-align: right;\">\n",
       "      <th></th>\n",
       "      <th>avgTemp</th>\n",
       "      <th>minTemp</th>\n",
       "      <th>maxTemp</th>\n",
       "      <th>rainFall</th>\n",
       "    </tr>\n",
       "  </thead>\n",
       "  <tbody>\n",
       "    <tr>\n",
       "      <th>count</th>\n",
       "      <td>2922.000000</td>\n",
       "      <td>2922.000000</td>\n",
       "      <td>2922.000000</td>\n",
       "      <td>2922.000000</td>\n",
       "    </tr>\n",
       "    <tr>\n",
       "      <th>mean</th>\n",
       "      <td>12.980527</td>\n",
       "      <td>8.288227</td>\n",
       "      <td>18.378645</td>\n",
       "      <td>3.445140</td>\n",
       "    </tr>\n",
       "    <tr>\n",
       "      <th>std</th>\n",
       "      <td>9.790108</td>\n",
       "      <td>10.232362</td>\n",
       "      <td>9.803192</td>\n",
       "      <td>8.563899</td>\n",
       "    </tr>\n",
       "    <tr>\n",
       "      <th>min</th>\n",
       "      <td>-10.800000</td>\n",
       "      <td>-14.800000</td>\n",
       "      <td>-7.400000</td>\n",
       "      <td>0.000000</td>\n",
       "    </tr>\n",
       "    <tr>\n",
       "      <th>25%</th>\n",
       "      <td>4.200000</td>\n",
       "      <td>-0.700000</td>\n",
       "      <td>9.700000</td>\n",
       "      <td>0.000000</td>\n",
       "    </tr>\n",
       "    <tr>\n",
       "      <th>50%</th>\n",
       "      <td>13.950000</td>\n",
       "      <td>8.700000</td>\n",
       "      <td>19.950000</td>\n",
       "      <td>0.100000</td>\n",
       "    </tr>\n",
       "    <tr>\n",
       "      <th>75%</th>\n",
       "      <td>21.700000</td>\n",
       "      <td>17.575000</td>\n",
       "      <td>27.100000</td>\n",
       "      <td>2.175000</td>\n",
       "    </tr>\n",
       "    <tr>\n",
       "      <th>max</th>\n",
       "      <td>29.900000</td>\n",
       "      <td>25.900000</td>\n",
       "      <td>35.600000</td>\n",
       "      <td>95.500000</td>\n",
       "    </tr>\n",
       "  </tbody>\n",
       "</table>\n",
       "</div>"
      ],
      "text/plain": [
       "           avgTemp      minTemp      maxTemp     rainFall\n",
       "count  2922.000000  2922.000000  2922.000000  2922.000000\n",
       "mean     12.980527     8.288227    18.378645     3.445140\n",
       "std       9.790108    10.232362     9.803192     8.563899\n",
       "min     -10.800000   -14.800000    -7.400000     0.000000\n",
       "25%       4.200000    -0.700000     9.700000     0.000000\n",
       "50%      13.950000     8.700000    19.950000     0.100000\n",
       "75%      21.700000    17.575000    27.100000     2.175000\n",
       "max      29.900000    25.900000    35.600000    95.500000"
      ]
     },
     "execution_count": 8,
     "metadata": {},
     "output_type": "execute_result"
    }
   ],
   "source": [
    "X.describe()\n",
    "# describe() 함수는 DataFrame의 계산 가능한 값들에 대한 다양한 계산 값을 보여준다."
   ]
  },
  {
   "cell_type": "code",
   "execution_count": 9,
   "id": "953835c0-b4fd-479a-a591-00a0eae0ffff",
   "metadata": {},
   "outputs": [],
   "source": [
    "y = df.avgPrice"
   ]
  },
  {
   "cell_type": "code",
   "execution_count": 10,
   "id": "68b1a5bf-2dff-49ca-a12d-2c4ea5af98a9",
   "metadata": {},
   "outputs": [
    {
     "data": {
      "text/plain": [
       "0    2123\n",
       "1    2123\n",
       "2    2123\n",
       "3    2020\n",
       "4    2060\n",
       "Name: avgPrice, dtype: int64"
      ]
     },
     "execution_count": 10,
     "metadata": {},
     "output_type": "execute_result"
    }
   ],
   "source": [
    "y.head()"
   ]
  },
  {
   "cell_type": "code",
   "execution_count": 11,
   "id": "1453b0ab-1238-467b-a859-e6581ba11061",
   "metadata": {},
   "outputs": [],
   "source": [
    "#종류 1\n",
    "from sklearn.tree import DecisionTreeRegressor\n",
    "model = DecisionTreeRegressor(random_state=1)"
   ]
  },
  {
   "cell_type": "code",
   "execution_count": 12,
   "id": "3fb67091-22ac-471b-8283-4ab0e0cb0df7",
   "metadata": {},
   "outputs": [
    {
     "data": {
      "text/plain": [
       "DecisionTreeRegressor(random_state=1)"
      ]
     },
     "execution_count": 12,
     "metadata": {},
     "output_type": "execute_result"
    }
   ],
   "source": [
    "#모델 훈련(의사결정 알고리즘을 사용하영 모델 훈련)\n",
    "# X,y를 모델 훈련을 위해 \"적합\"한다 > 적합한 후 훈련을 진행한다\n",
    "model.fit(X,y)"
   ]
  },
  {
   "cell_type": "code",
   "execution_count": 13,
   "id": "5ad3f0d9-78ee-4f0b-bec8-f8c9cb05abec",
   "metadata": {},
   "outputs": [
    {
     "data": {
      "text/plain": [
       "0.999125889221821"
      ]
     },
     "execution_count": 13,
     "metadata": {},
     "output_type": "execute_result"
    }
   ],
   "source": [
    "# 모델 학습 후, 결과 점수 평가\n",
    "model.score(X,y)"
   ]
  },
  {
   "cell_type": "code",
   "execution_count": 14,
   "id": "ee16c40d-4828-4a53-bef7-888a30573fb4",
   "metadata": {},
   "outputs": [],
   "source": [
    "# 실제 예측을 돌려보기\n",
    "avgTemp = -4.9\n",
    "minTemp = -11\n",
    "maxTemp = 0.9\n",
    "rainFall = 0"
   ]
  },
  {
   "cell_type": "code",
   "execution_count": 15,
   "id": "13a71425-49dd-4e85-ab61-a7d0143cd9e8",
   "metadata": {},
   "outputs": [],
   "source": [
    "input_features = [[avgTemp, minTemp, maxTemp, rainFall]]"
   ]
  },
  {
   "cell_type": "code",
   "execution_count": 16,
   "id": "856828d1-4d15-4196-9b57-868f58605b71",
   "metadata": {},
   "outputs": [],
   "source": [
    "result = model.predict(input_features)"
   ]
  },
  {
   "cell_type": "code",
   "execution_count": 17,
   "id": "2055f2a2-869b-40a9-b911-9308eda48209",
   "metadata": {},
   "outputs": [
    {
     "name": "stdout",
     "output_type": "stream",
     "text": [
      "배추예상값 :  2123.0 원\n"
     ]
    }
   ],
   "source": [
    "print ('배추예상값 : ', result[0], '원')"
   ]
  },
  {
   "cell_type": "code",
   "execution_count": 21,
   "id": "6dc93e3d-02a0-4518-8c77-88688ecfe85e",
   "metadata": {},
   "outputs": [
    {
     "data": {
      "text/plain": [
       "['./model/cabb_model.pkl']"
      ]
     },
     "execution_count": 21,
     "metadata": {},
     "output_type": "execute_result"
    }
   ],
   "source": [
    "import joblib\n",
    "joblib.dump(model, './model/cabb_model.pkl')"
   ]
  },
  {
   "cell_type": "code",
   "execution_count": 26,
   "id": "73687b41-10d2-4cb9-a658-aa78ddb8657a",
   "metadata": {},
   "outputs": [
    {
     "name": "stdout",
     "output_type": "stream",
     "text": [
      "0.999125889221821\n"
     ]
    }
   ],
   "source": [
    "loaded_model = joblib.load('./model/cabb_model.pkl')\n",
    "score = loaded_model.score(X,y)\n",
    "print(score)"
   ]
  },
  {
   "cell_type": "code",
   "execution_count": null,
   "id": "e7cdf38d-843a-4a69-bc4b-a1c713702377",
   "metadata": {},
   "outputs": [],
   "source": []
  }
 ],
 "metadata": {
  "kernelspec": {
   "display_name": "Python 3",
   "language": "python",
   "name": "python3"
  },
  "language_info": {
   "codemirror_mode": {
    "name": "ipython",
    "version": 3
   },
   "file_extension": ".py",
   "mimetype": "text/x-python",
   "name": "python",
   "nbconvert_exporter": "python",
   "pygments_lexer": "ipython3",
   "version": "3.8.8"
  }
 },
 "nbformat": 4,
 "nbformat_minor": 5
}
