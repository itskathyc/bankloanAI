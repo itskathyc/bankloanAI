{
 "cells": [
  {
   "cell_type": "code",
   "execution_count": 1,
   "id": "3777b6ac-a58d-4a6b-a489-b878ee33c10b",
   "metadata": {},
   "outputs": [],
   "source": [
    "import pandas as pd"
   ]
  },
  {
   "cell_type": "code",
   "execution_count": 3,
   "id": "e76ed0f1-b43c-4d90-8d8c-192c852d1314",
   "metadata": {},
   "outputs": [],
   "source": [
    "from google.cloud import bigquery\n",
    "\n",
    "client = bigquery.Client()\n",
    "\n",
    "# Download query results.\n",
    "query = \"\"\"\n",
    "SELECT * FROM `sixth-tempo-323301.test_poc_dataset.cabbage-predict`\n",
    "\"\"\"\n",
    "\n",
    "df = client.query(query).to_dataframe()"
   ]
  },
  {
   "cell_type": "code",
   "execution_count": 5,
   "id": "f27157d2-2821-49c1-8f49-a0c75bd09de9",
   "metadata": {},
   "outputs": [
    {
     "data": {
      "text/html": [
       "<div>\n",
       "<style scoped>\n",
       "    .dataframe tbody tr th:only-of-type {\n",
       "        vertical-align: middle;\n",
       "    }\n",
       "\n",
       "    .dataframe tbody tr th {\n",
       "        vertical-align: top;\n",
       "    }\n",
       "\n",
       "    .dataframe thead th {\n",
       "        text-align: right;\n",
       "    }\n",
       "</style>\n",
       "<table border=\"1\" class=\"dataframe\">\n",
       "  <thead>\n",
       "    <tr style=\"text-align: right;\">\n",
       "      <th></th>\n",
       "      <th>year</th>\n",
       "      <th>avgTemp</th>\n",
       "      <th>minTemp</th>\n",
       "      <th>maxTemp</th>\n",
       "      <th>rainFall</th>\n",
       "      <th>avgPrice</th>\n",
       "    </tr>\n",
       "  </thead>\n",
       "  <tbody>\n",
       "    <tr>\n",
       "      <th>0</th>\n",
       "      <td>20121205</td>\n",
       "      <td>0.0</td>\n",
       "      <td>-3.8</td>\n",
       "      <td>5.4</td>\n",
       "      <td>6.7</td>\n",
       "      <td>2600</td>\n",
       "    </tr>\n",
       "    <tr>\n",
       "      <th>1</th>\n",
       "      <td>20130204</td>\n",
       "      <td>2.0</td>\n",
       "      <td>-1.6</td>\n",
       "      <td>6.3</td>\n",
       "      <td>4.2</td>\n",
       "      <td>3702</td>\n",
       "    </tr>\n",
       "    <tr>\n",
       "      <th>2</th>\n",
       "      <td>20110301</td>\n",
       "      <td>2.5</td>\n",
       "      <td>-0.4</td>\n",
       "      <td>5.6</td>\n",
       "      <td>3.2</td>\n",
       "      <td>4710</td>\n",
       "    </tr>\n",
       "    <tr>\n",
       "      <th>3</th>\n",
       "      <td>20151203</td>\n",
       "      <td>3.0</td>\n",
       "      <td>-0.3</td>\n",
       "      <td>6.5</td>\n",
       "      <td>3.0</td>\n",
       "      <td>2240</td>\n",
       "    </tr>\n",
       "    <tr>\n",
       "      <th>4</th>\n",
       "      <td>20160228</td>\n",
       "      <td>4.0</td>\n",
       "      <td>-0.5</td>\n",
       "      <td>10.5</td>\n",
       "      <td>5.8</td>\n",
       "      <td>3147</td>\n",
       "    </tr>\n",
       "  </tbody>\n",
       "</table>\n",
       "</div>"
      ],
      "text/plain": [
       "       year  avgTemp  minTemp  maxTemp  rainFall  avgPrice\n",
       "0  20121205      0.0     -3.8      5.4       6.7      2600\n",
       "1  20130204      2.0     -1.6      6.3       4.2      3702\n",
       "2  20110301      2.5     -0.4      5.6       3.2      4710\n",
       "3  20151203      3.0     -0.3      6.5       3.0      2240\n",
       "4  20160228      4.0     -0.5     10.5       5.8      3147"
      ]
     },
     "execution_count": 5,
     "metadata": {},
     "output_type": "execute_result"
    }
   ],
   "source": [
    "df.head()"
   ]
  },
  {
   "cell_type": "code",
   "execution_count": 9,
   "id": "9c4a1130-2d9d-4a83-83c1-5c19eac1dc9d",
   "metadata": {},
   "outputs": [],
   "source": [
    "data_features = ['avgTemp', 'minTemp', 'maxTemp','rainFall']"
   ]
  },
  {
   "cell_type": "code",
   "execution_count": 10,
   "id": "c32cc294-3746-40e8-87ef-4e44f7bec7a7",
   "metadata": {},
   "outputs": [],
   "source": [
    "X = df[data_features]"
   ]
  },
  {
   "cell_type": "code",
   "execution_count": 11,
   "id": "d03aa99d-6bce-462f-807f-69f82d39eec5",
   "metadata": {},
   "outputs": [
    {
     "data": {
      "text/html": [
       "<div>\n",
       "<style scoped>\n",
       "    .dataframe tbody tr th:only-of-type {\n",
       "        vertical-align: middle;\n",
       "    }\n",
       "\n",
       "    .dataframe tbody tr th {\n",
       "        vertical-align: top;\n",
       "    }\n",
       "\n",
       "    .dataframe thead th {\n",
       "        text-align: right;\n",
       "    }\n",
       "</style>\n",
       "<table border=\"1\" class=\"dataframe\">\n",
       "  <thead>\n",
       "    <tr style=\"text-align: right;\">\n",
       "      <th></th>\n",
       "      <th>avgTemp</th>\n",
       "      <th>minTemp</th>\n",
       "      <th>maxTemp</th>\n",
       "      <th>rainFall</th>\n",
       "    </tr>\n",
       "  </thead>\n",
       "  <tbody>\n",
       "    <tr>\n",
       "      <th>0</th>\n",
       "      <td>0.0</td>\n",
       "      <td>-3.8</td>\n",
       "      <td>5.4</td>\n",
       "      <td>6.7</td>\n",
       "    </tr>\n",
       "    <tr>\n",
       "      <th>1</th>\n",
       "      <td>2.0</td>\n",
       "      <td>-1.6</td>\n",
       "      <td>6.3</td>\n",
       "      <td>4.2</td>\n",
       "    </tr>\n",
       "    <tr>\n",
       "      <th>2</th>\n",
       "      <td>2.5</td>\n",
       "      <td>-0.4</td>\n",
       "      <td>5.6</td>\n",
       "      <td>3.2</td>\n",
       "    </tr>\n",
       "    <tr>\n",
       "      <th>3</th>\n",
       "      <td>3.0</td>\n",
       "      <td>-0.3</td>\n",
       "      <td>6.5</td>\n",
       "      <td>3.0</td>\n",
       "    </tr>\n",
       "    <tr>\n",
       "      <th>4</th>\n",
       "      <td>4.0</td>\n",
       "      <td>-0.5</td>\n",
       "      <td>10.5</td>\n",
       "      <td>5.8</td>\n",
       "    </tr>\n",
       "  </tbody>\n",
       "</table>\n",
       "</div>"
      ],
      "text/plain": [
       "   avgTemp  minTemp  maxTemp  rainFall\n",
       "0      0.0     -3.8      5.4       6.7\n",
       "1      2.0     -1.6      6.3       4.2\n",
       "2      2.5     -0.4      5.6       3.2\n",
       "3      3.0     -0.3      6.5       3.0\n",
       "4      4.0     -0.5     10.5       5.8"
      ]
     },
     "execution_count": 11,
     "metadata": {},
     "output_type": "execute_result"
    }
   ],
   "source": [
    "X.head()"
   ]
  },
  {
   "cell_type": "code",
   "execution_count": 12,
   "id": "137111a1-b6e6-41fd-9658-c81567481787",
   "metadata": {},
   "outputs": [],
   "source": [
    "y = df.avgPrice"
   ]
  },
  {
   "cell_type": "code",
   "execution_count": 13,
   "id": "b679eb53-7c7e-4324-8af3-a32b9cc64b4c",
   "metadata": {},
   "outputs": [
    {
     "data": {
      "text/plain": [
       "0    2600\n",
       "1    3702\n",
       "2    4710\n",
       "3    2240\n",
       "4    3147\n",
       "Name: avgPrice, dtype: int64"
      ]
     },
     "execution_count": 13,
     "metadata": {},
     "output_type": "execute_result"
    }
   ],
   "source": [
    "y.head()"
   ]
  },
  {
   "cell_type": "code",
   "execution_count": 14,
   "id": "3f1a8aa9-5f96-4b9f-b4e3-ddd5d94b921e",
   "metadata": {},
   "outputs": [],
   "source": [
    "#model생성\n",
    "from sklearn.tree import DecisionTreeRegressor\n",
    "model = DecisionTreeRegressor(random_state=1)"
   ]
  },
  {
   "cell_type": "code",
   "execution_count": 15,
   "id": "57a0ed9f-4758-4883-b9e0-7797d4b928f9",
   "metadata": {},
   "outputs": [
    {
     "data": {
      "text/plain": [
       "DecisionTreeRegressor(random_state=1)"
      ]
     },
     "execution_count": 15,
     "metadata": {},
     "output_type": "execute_result"
    }
   ],
   "source": [
    "model.fit(X,y)"
   ]
  },
  {
   "cell_type": "code",
   "execution_count": 16,
   "id": "d5eeb49d-12c6-43e2-aec2-84f63c72122b",
   "metadata": {},
   "outputs": [
    {
     "data": {
      "text/plain": [
       "0.999125889221821"
      ]
     },
     "execution_count": 16,
     "metadata": {},
     "output_type": "execute_result"
    }
   ],
   "source": [
    "model.score(X,y)"
   ]
  },
  {
   "cell_type": "code",
   "execution_count": 17,
   "id": "adfe26a5-26d3-49fb-a569-5f7976f2f8d5",
   "metadata": {},
   "outputs": [],
   "source": [
    "avgTemp = 2.0\n",
    "minTemp = -5.0\n",
    "maxTemp = 1.3\n",
    "rainFall = 1.3"
   ]
  },
  {
   "cell_type": "markdown",
   "id": "8f466653-9bb3-4258-9c1f-d738a444a9fb",
   "metadata": {},
   "source": [
    "input_features = [[avgTemp, minTemp, maxTemp, rainFall]]\n",
    "result = model.predict(input_features)"
   ]
  },
  {
   "cell_type": "code",
   "execution_count": 18,
   "id": "b38d9430-f432-4867-bcfb-9dcd249aadb7",
   "metadata": {},
   "outputs": [],
   "source": [
    "input_features = [[avgTemp, minTemp, maxTemp, rainFall]]"
   ]
  },
  {
   "cell_type": "code",
   "execution_count": 22,
   "id": "d1d2cd15-e82e-4c6b-b45b-c485ebfc73c1",
   "metadata": {},
   "outputs": [],
   "source": [
    "result = model.predict(input_features)"
   ]
  },
  {
   "cell_type": "code",
   "execution_count": 20,
   "id": "72328022-653a-4cf6-93ee-7cb407807d8f",
   "metadata": {},
   "outputs": [
    {
     "name": "stdout",
     "output_type": "stream",
     "text": [
      "평균기온 2.0 일때의 배추값 :  [1912.]\n"
     ]
    }
   ],
   "source": [
    "print ('평균기온', avgTemp, '일때의 배추값 : ', result)"
   ]
  },
  {
   "cell_type": "code",
   "execution_count": 23,
   "id": "f899b94c-75fd-46c4-9ec9-12c456113f22",
   "metadata": {},
   "outputs": [
    {
     "data": {
      "text/plain": [
       "array([1912.])"
      ]
     },
     "execution_count": 23,
     "metadata": {},
     "output_type": "execute_result"
    }
   ],
   "source": [
    "result"
   ]
  },
  {
   "cell_type": "code",
   "execution_count": null,
   "id": "c501ce61-b1fa-4e6f-ac82-3f1ee689e5fa",
   "metadata": {},
   "outputs": [],
   "source": []
  }
 ],
 "metadata": {
  "kernelspec": {
   "display_name": "Python 3",
   "language": "python",
   "name": "python3"
  },
  "language_info": {
   "codemirror_mode": {
    "name": "ipython",
    "version": 3
   },
   "file_extension": ".py",
   "mimetype": "text/x-python",
   "name": "python",
   "nbconvert_exporter": "python",
   "pygments_lexer": "ipython3",
   "version": "3.8.8"
  }
 },
 "nbformat": 4,
 "nbformat_minor": 5
}
