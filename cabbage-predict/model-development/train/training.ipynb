{
 "cells": [
  {
   "cell_type": "code",
   "execution_count": 2,
   "id": "c5db51e6-48f6-4174-812c-78b5252d6328",
   "metadata": {},
   "outputs": [],
   "source": [
    "import pandas as pd\n",
    "#Pandas는 파이썬에서 사용하는 데이터분석 라이브러리로\n",
    "#행과 열로 이루어진 데이터 객체를 만들어 다룰 수 있게 되며 보다 안정적으로 대용량의 데이터들을 처리하는데 매우 편리한 도구이다.\n",
    "#데이터 조작과 분석을 위한 파이썬 소프트웨어 라이브러리"
   ]
  },
  {
   "cell_type": "code",
   "execution_count": 6,
   "id": "707948f8-8a73-4d2e-96f6-39975a85e115",
   "metadata": {},
   "outputs": [
    {
     "data": {
      "text/html": [
       "<div>\n",
       "<style scoped>\n",
       "    .dataframe tbody tr th:only-of-type {\n",
       "        vertical-align: middle;\n",
       "    }\n",
       "\n",
       "    .dataframe tbody tr th {\n",
       "        vertical-align: top;\n",
       "    }\n",
       "\n",
       "    .dataframe thead th {\n",
       "        text-align: right;\n",
       "    }\n",
       "</style>\n",
       "<table border=\"1\" class=\"dataframe\">\n",
       "  <thead>\n",
       "    <tr style=\"text-align: right;\">\n",
       "      <th></th>\n",
       "      <th>year</th>\n",
       "      <th>avgTemp</th>\n",
       "      <th>minTemp</th>\n",
       "      <th>maxTemp</th>\n",
       "      <th>rainFall</th>\n",
       "      <th>avgPrice</th>\n",
       "    </tr>\n",
       "  </thead>\n",
       "  <tbody>\n",
       "    <tr>\n",
       "      <th>0</th>\n",
       "      <td>20121205</td>\n",
       "      <td>0.0</td>\n",
       "      <td>-3.8</td>\n",
       "      <td>5.4</td>\n",
       "      <td>6.7</td>\n",
       "      <td>2600</td>\n",
       "    </tr>\n",
       "    <tr>\n",
       "      <th>1</th>\n",
       "      <td>20130204</td>\n",
       "      <td>2.0</td>\n",
       "      <td>-1.6</td>\n",
       "      <td>6.3</td>\n",
       "      <td>4.2</td>\n",
       "      <td>3702</td>\n",
       "    </tr>\n",
       "    <tr>\n",
       "      <th>2</th>\n",
       "      <td>20110301</td>\n",
       "      <td>2.5</td>\n",
       "      <td>-0.4</td>\n",
       "      <td>5.6</td>\n",
       "      <td>3.2</td>\n",
       "      <td>4710</td>\n",
       "    </tr>\n",
       "    <tr>\n",
       "      <th>3</th>\n",
       "      <td>20151203</td>\n",
       "      <td>3.0</td>\n",
       "      <td>-0.3</td>\n",
       "      <td>6.5</td>\n",
       "      <td>3.0</td>\n",
       "      <td>2240</td>\n",
       "    </tr>\n",
       "    <tr>\n",
       "      <th>4</th>\n",
       "      <td>20160228</td>\n",
       "      <td>4.0</td>\n",
       "      <td>-0.5</td>\n",
       "      <td>10.5</td>\n",
       "      <td>5.8</td>\n",
       "      <td>3147</td>\n",
       "    </tr>\n",
       "    <tr>\n",
       "      <th>...</th>\n",
       "      <td>...</td>\n",
       "      <td>...</td>\n",
       "      <td>...</td>\n",
       "      <td>...</td>\n",
       "      <td>...</td>\n",
       "      <td>...</td>\n",
       "    </tr>\n",
       "    <tr>\n",
       "      <th>2917</th>\n",
       "      <td>20140726</td>\n",
       "      <td>25.6</td>\n",
       "      <td>21.6</td>\n",
       "      <td>29.5</td>\n",
       "      <td>1.8</td>\n",
       "      <td>2938</td>\n",
       "    </tr>\n",
       "    <tr>\n",
       "      <th>2918</th>\n",
       "      <td>20150727</td>\n",
       "      <td>26.6</td>\n",
       "      <td>23.5</td>\n",
       "      <td>30.4</td>\n",
       "      <td>1.8</td>\n",
       "      <td>2821</td>\n",
       "    </tr>\n",
       "    <tr>\n",
       "      <th>2919</th>\n",
       "      <td>20160823</td>\n",
       "      <td>27.3</td>\n",
       "      <td>23.6</td>\n",
       "      <td>32.2</td>\n",
       "      <td>1.8</td>\n",
       "      <td>5472</td>\n",
       "    </tr>\n",
       "    <tr>\n",
       "      <th>2920</th>\n",
       "      <td>20140108</td>\n",
       "      <td>2.1</td>\n",
       "      <td>-1.4</td>\n",
       "      <td>5.3</td>\n",
       "      <td>1.8</td>\n",
       "      <td>2429</td>\n",
       "    </tr>\n",
       "    <tr>\n",
       "      <th>2921</th>\n",
       "      <td>20100618</td>\n",
       "      <td>23.8</td>\n",
       "      <td>20.7</td>\n",
       "      <td>27.9</td>\n",
       "      <td>1.8</td>\n",
       "      <td>2800</td>\n",
       "    </tr>\n",
       "  </tbody>\n",
       "</table>\n",
       "<p>2922 rows × 6 columns</p>\n",
       "</div>"
      ],
      "text/plain": [
       "          year  avgTemp  minTemp  maxTemp  rainFall  avgPrice\n",
       "0     20121205      0.0     -3.8      5.4       6.7      2600\n",
       "1     20130204      2.0     -1.6      6.3       4.2      3702\n",
       "2     20110301      2.5     -0.4      5.6       3.2      4710\n",
       "3     20151203      3.0     -0.3      6.5       3.0      2240\n",
       "4     20160228      4.0     -0.5     10.5       5.8      3147\n",
       "...        ...      ...      ...      ...       ...       ...\n",
       "2917  20140726     25.6     21.6     29.5       1.8      2938\n",
       "2918  20150727     26.6     23.5     30.4       1.8      2821\n",
       "2919  20160823     27.3     23.6     32.2       1.8      5472\n",
       "2920  20140108      2.1     -1.4      5.3       1.8      2429\n",
       "2921  20100618     23.8     20.7     27.9       1.8      2800\n",
       "\n",
       "[2922 rows x 6 columns]"
      ]
     },
     "execution_count": 6,
     "metadata": {},
     "output_type": "execute_result"
    }
   ],
   "source": [
    "#file_path = \"./price_data.csv\"\n",
    "\n",
    "##df = dataframe\n",
    "#df = pd.read_csv(file_path)  \n",
    "\n",
    "from google.cloud import bigquery\n",
    "\n",
    "# Construct a BigQuery client object.\n",
    "client = bigquery.Client()\n",
    "\n",
    "query = \"\"\"\n",
    "   SELECT * FROM `sixth-tempo-323301.test_poc_dataset.cabbage-predict`\n",
    "\"\"\"\n",
    "\n",
    "#From 프로젝트명.데이터세트명.테이블명\n",
    "\n",
    "df = client.query(query).to_dataframe()\n",
    "\n",
    "df"
   ]
  },
  {
   "cell_type": "code",
   "execution_count": 7,
   "id": "d51efeec-18ba-4243-b83a-47bb0e6dff19",
   "metadata": {},
   "outputs": [
    {
     "data": {
      "text/plain": [
       "(2922, 6)"
      ]
     },
     "execution_count": 7,
     "metadata": {},
     "output_type": "execute_result"
    }
   ],
   "source": [
    "#dataframe의 행열갯수 (2922줄, 6열)\n",
    "df.shape"
   ]
  },
  {
   "cell_type": "code",
   "execution_count": 12,
   "id": "35cd9258-10b9-4ff6-bbeb-a8fc487b33fe",
   "metadata": {},
   "outputs": [
    {
     "data": {
      "text/html": [
       "<div>\n",
       "<style scoped>\n",
       "    .dataframe tbody tr th:only-of-type {\n",
       "        vertical-align: middle;\n",
       "    }\n",
       "\n",
       "    .dataframe tbody tr th {\n",
       "        vertical-align: top;\n",
       "    }\n",
       "\n",
       "    .dataframe thead th {\n",
       "        text-align: right;\n",
       "    }\n",
       "</style>\n",
       "<table border=\"1\" class=\"dataframe\">\n",
       "  <thead>\n",
       "    <tr style=\"text-align: right;\">\n",
       "      <th></th>\n",
       "      <th>year</th>\n",
       "      <th>avgTemp</th>\n",
       "      <th>minTemp</th>\n",
       "      <th>maxTemp</th>\n",
       "      <th>rainFall</th>\n",
       "      <th>avgPrice</th>\n",
       "    </tr>\n",
       "  </thead>\n",
       "  <tbody>\n",
       "    <tr>\n",
       "      <th>0</th>\n",
       "      <td>20121205</td>\n",
       "      <td>0.0</td>\n",
       "      <td>-3.8</td>\n",
       "      <td>5.4</td>\n",
       "      <td>6.7</td>\n",
       "      <td>2600</td>\n",
       "    </tr>\n",
       "    <tr>\n",
       "      <th>1</th>\n",
       "      <td>20130204</td>\n",
       "      <td>2.0</td>\n",
       "      <td>-1.6</td>\n",
       "      <td>6.3</td>\n",
       "      <td>4.2</td>\n",
       "      <td>3702</td>\n",
       "    </tr>\n",
       "    <tr>\n",
       "      <th>2</th>\n",
       "      <td>20110301</td>\n",
       "      <td>2.5</td>\n",
       "      <td>-0.4</td>\n",
       "      <td>5.6</td>\n",
       "      <td>3.2</td>\n",
       "      <td>4710</td>\n",
       "    </tr>\n",
       "    <tr>\n",
       "      <th>3</th>\n",
       "      <td>20151203</td>\n",
       "      <td>3.0</td>\n",
       "      <td>-0.3</td>\n",
       "      <td>6.5</td>\n",
       "      <td>3.0</td>\n",
       "      <td>2240</td>\n",
       "    </tr>\n",
       "    <tr>\n",
       "      <th>4</th>\n",
       "      <td>20160228</td>\n",
       "      <td>4.0</td>\n",
       "      <td>-0.5</td>\n",
       "      <td>10.5</td>\n",
       "      <td>5.8</td>\n",
       "      <td>3147</td>\n",
       "    </tr>\n",
       "  </tbody>\n",
       "</table>\n",
       "</div>"
      ],
      "text/plain": [
       "       year  avgTemp  minTemp  maxTemp  rainFall  avgPrice\n",
       "0  20121205      0.0     -3.8      5.4       6.7      2600\n",
       "1  20130204      2.0     -1.6      6.3       4.2      3702\n",
       "2  20110301      2.5     -0.4      5.6       3.2      4710\n",
       "3  20151203      3.0     -0.3      6.5       3.0      2240\n",
       "4  20160228      4.0     -0.5     10.5       5.8      3147"
      ]
     },
     "execution_count": 12,
     "metadata": {},
     "output_type": "execute_result"
    }
   ],
   "source": [
    "df.head()"
   ]
  },
  {
   "cell_type": "code",
   "execution_count": 8,
   "id": "6104bf48-8c85-4fb3-b34a-ce3edb09d66c",
   "metadata": {},
   "outputs": [],
   "source": [
    "data_features = ['avgTemp', 'minTemp', 'maxTemp', 'rainFall']"
   ]
  },
  {
   "cell_type": "code",
   "execution_count": 9,
   "id": "beecb57a-3f3e-42f9-86b8-3c6e5bcc6f3b",
   "metadata": {},
   "outputs": [
    {
     "data": {
      "text/html": [
       "<div>\n",
       "<style scoped>\n",
       "    .dataframe tbody tr th:only-of-type {\n",
       "        vertical-align: middle;\n",
       "    }\n",
       "\n",
       "    .dataframe tbody tr th {\n",
       "        vertical-align: top;\n",
       "    }\n",
       "\n",
       "    .dataframe thead th {\n",
       "        text-align: right;\n",
       "    }\n",
       "</style>\n",
       "<table border=\"1\" class=\"dataframe\">\n",
       "  <thead>\n",
       "    <tr style=\"text-align: right;\">\n",
       "      <th></th>\n",
       "      <th>avgTemp</th>\n",
       "      <th>minTemp</th>\n",
       "      <th>maxTemp</th>\n",
       "      <th>rainFall</th>\n",
       "    </tr>\n",
       "  </thead>\n",
       "  <tbody>\n",
       "    <tr>\n",
       "      <th>0</th>\n",
       "      <td>0.0</td>\n",
       "      <td>-3.8</td>\n",
       "      <td>5.4</td>\n",
       "      <td>6.7</td>\n",
       "    </tr>\n",
       "    <tr>\n",
       "      <th>1</th>\n",
       "      <td>2.0</td>\n",
       "      <td>-1.6</td>\n",
       "      <td>6.3</td>\n",
       "      <td>4.2</td>\n",
       "    </tr>\n",
       "    <tr>\n",
       "      <th>2</th>\n",
       "      <td>2.5</td>\n",
       "      <td>-0.4</td>\n",
       "      <td>5.6</td>\n",
       "      <td>3.2</td>\n",
       "    </tr>\n",
       "    <tr>\n",
       "      <th>3</th>\n",
       "      <td>3.0</td>\n",
       "      <td>-0.3</td>\n",
       "      <td>6.5</td>\n",
       "      <td>3.0</td>\n",
       "    </tr>\n",
       "    <tr>\n",
       "      <th>4</th>\n",
       "      <td>4.0</td>\n",
       "      <td>-0.5</td>\n",
       "      <td>10.5</td>\n",
       "      <td>5.8</td>\n",
       "    </tr>\n",
       "  </tbody>\n",
       "</table>\n",
       "</div>"
      ],
      "text/plain": [
       "   avgTemp  minTemp  maxTemp  rainFall\n",
       "0      0.0     -3.8      5.4       6.7\n",
       "1      2.0     -1.6      6.3       4.2\n",
       "2      2.5     -0.4      5.6       3.2\n",
       "3      3.0     -0.3      6.5       3.0\n",
       "4      4.0     -0.5     10.5       5.8"
      ]
     },
     "execution_count": 9,
     "metadata": {},
     "output_type": "execute_result"
    }
   ],
   "source": [
    "#X는 특색, 대문자로 하자고 정함\n",
    "X = df[data_features]\n",
    "X.head()"
   ]
  },
  {
   "cell_type": "code",
   "execution_count": 10,
   "id": "f9487ea5-8764-43bb-aec5-fd5e7dbc3f0a",
   "metadata": {},
   "outputs": [
    {
     "data": {
      "text/html": [
       "<div>\n",
       "<style scoped>\n",
       "    .dataframe tbody tr th:only-of-type {\n",
       "        vertical-align: middle;\n",
       "    }\n",
       "\n",
       "    .dataframe tbody tr th {\n",
       "        vertical-align: top;\n",
       "    }\n",
       "\n",
       "    .dataframe thead th {\n",
       "        text-align: right;\n",
       "    }\n",
       "</style>\n",
       "<table border=\"1\" class=\"dataframe\">\n",
       "  <thead>\n",
       "    <tr style=\"text-align: right;\">\n",
       "      <th></th>\n",
       "      <th>avgTemp</th>\n",
       "      <th>minTemp</th>\n",
       "      <th>maxTemp</th>\n",
       "      <th>rainFall</th>\n",
       "    </tr>\n",
       "  </thead>\n",
       "  <tbody>\n",
       "    <tr>\n",
       "      <th>count</th>\n",
       "      <td>2922.000000</td>\n",
       "      <td>2922.000000</td>\n",
       "      <td>2922.000000</td>\n",
       "      <td>2922.000000</td>\n",
       "    </tr>\n",
       "    <tr>\n",
       "      <th>mean</th>\n",
       "      <td>12.980527</td>\n",
       "      <td>8.288227</td>\n",
       "      <td>18.378645</td>\n",
       "      <td>3.445140</td>\n",
       "    </tr>\n",
       "    <tr>\n",
       "      <th>std</th>\n",
       "      <td>9.790108</td>\n",
       "      <td>10.232362</td>\n",
       "      <td>9.803192</td>\n",
       "      <td>8.563899</td>\n",
       "    </tr>\n",
       "    <tr>\n",
       "      <th>min</th>\n",
       "      <td>-10.800000</td>\n",
       "      <td>-14.800000</td>\n",
       "      <td>-7.400000</td>\n",
       "      <td>0.000000</td>\n",
       "    </tr>\n",
       "    <tr>\n",
       "      <th>25%</th>\n",
       "      <td>4.200000</td>\n",
       "      <td>-0.700000</td>\n",
       "      <td>9.700000</td>\n",
       "      <td>0.000000</td>\n",
       "    </tr>\n",
       "    <tr>\n",
       "      <th>50%</th>\n",
       "      <td>13.950000</td>\n",
       "      <td>8.700000</td>\n",
       "      <td>19.950000</td>\n",
       "      <td>0.100000</td>\n",
       "    </tr>\n",
       "    <tr>\n",
       "      <th>75%</th>\n",
       "      <td>21.700000</td>\n",
       "      <td>17.575000</td>\n",
       "      <td>27.100000</td>\n",
       "      <td>2.175000</td>\n",
       "    </tr>\n",
       "    <tr>\n",
       "      <th>max</th>\n",
       "      <td>29.900000</td>\n",
       "      <td>25.900000</td>\n",
       "      <td>35.600000</td>\n",
       "      <td>95.500000</td>\n",
       "    </tr>\n",
       "  </tbody>\n",
       "</table>\n",
       "</div>"
      ],
      "text/plain": [
       "           avgTemp      minTemp      maxTemp     rainFall\n",
       "count  2922.000000  2922.000000  2922.000000  2922.000000\n",
       "mean     12.980527     8.288227    18.378645     3.445140\n",
       "std       9.790108    10.232362     9.803192     8.563899\n",
       "min     -10.800000   -14.800000    -7.400000     0.000000\n",
       "25%       4.200000    -0.700000     9.700000     0.000000\n",
       "50%      13.950000     8.700000    19.950000     0.100000\n",
       "75%      21.700000    17.575000    27.100000     2.175000\n",
       "max      29.900000    25.900000    35.600000    95.500000"
      ]
     },
     "execution_count": 10,
     "metadata": {},
     "output_type": "execute_result"
    }
   ],
   "source": [
    "X.describe()\n",
    "# describe() 함수는 DataFrame의 계산 가능한 값들에 대한 다양한 계산 값을 보여준다."
   ]
  },
  {
   "cell_type": "code",
   "execution_count": 11,
   "id": "953835c0-b4fd-479a-a591-00a0eae0ffff",
   "metadata": {},
   "outputs": [],
   "source": [
    "y = df.avgPrice"
   ]
  },
  {
   "cell_type": "code",
   "execution_count": 12,
   "id": "68b1a5bf-2dff-49ca-a12d-2c4ea5af98a9",
   "metadata": {},
   "outputs": [
    {
     "data": {
      "text/plain": [
       "0    2600\n",
       "1    3702\n",
       "2    4710\n",
       "3    2240\n",
       "4    3147\n",
       "Name: avgPrice, dtype: int64"
      ]
     },
     "execution_count": 12,
     "metadata": {},
     "output_type": "execute_result"
    }
   ],
   "source": [
    "y.head()"
   ]
  },
  {
   "cell_type": "code",
   "execution_count": 13,
   "id": "1453b0ab-1238-467b-a859-e6581ba11061",
   "metadata": {},
   "outputs": [],
   "source": [
    "#종류 1\n",
    "from sklearn.tree import DecisionTreeRegressor\n",
    "model = DecisionTreeRegressor(random_state=1)"
   ]
  },
  {
   "cell_type": "code",
   "execution_count": 14,
   "id": "3fb67091-22ac-471b-8283-4ab0e0cb0df7",
   "metadata": {},
   "outputs": [
    {
     "data": {
      "text/plain": [
       "DecisionTreeRegressor(random_state=1)"
      ]
     },
     "execution_count": 14,
     "metadata": {},
     "output_type": "execute_result"
    }
   ],
   "source": [
    "#모델 훈련(의사결정 알고리즘을 사용하영 모델 훈련)\n",
    "# X,y를 모델 훈련을 위해 \"적합\"한다 > 적합한 후 훈련을 진행한다\n",
    "model.fit(X,y)"
   ]
  },
  {
   "cell_type": "code",
   "execution_count": 15,
   "id": "5ad3f0d9-78ee-4f0b-bec8-f8c9cb05abec",
   "metadata": {},
   "outputs": [
    {
     "data": {
      "text/plain": [
       "0.999125889221821"
      ]
     },
     "execution_count": 15,
     "metadata": {},
     "output_type": "execute_result"
    }
   ],
   "source": [
    "# 모델 학습 후, 결과 점수 평가\n",
    "#99%는 과적합한 데이터\n",
    "model.score(X,y)"
   ]
  },
  {
   "cell_type": "code",
   "execution_count": 16,
   "id": "ee16c40d-4828-4a53-bef7-888a30573fb4",
   "metadata": {},
   "outputs": [],
   "source": [
    "# 실제 예측을 돌려보기\n",
    "avgTemp = -4.9\n",
    "minTemp = -11\n",
    "maxTemp = 0.9\n",
    "rainFall = 0"
   ]
  },
  {
   "cell_type": "code",
   "execution_count": 17,
   "id": "13a71425-49dd-4e85-ab61-a7d0143cd9e8",
   "metadata": {},
   "outputs": [],
   "source": [
    "input_features = [[avgTemp, minTemp, maxTemp, rainFall]]"
   ]
  },
  {
   "cell_type": "code",
   "execution_count": 18,
   "id": "856828d1-4d15-4196-9b57-868f58605b71",
   "metadata": {},
   "outputs": [],
   "source": [
    "result = model.predict(input_features)"
   ]
  },
  {
   "cell_type": "code",
   "execution_count": 19,
   "id": "2055f2a2-869b-40a9-b911-9308eda48209",
   "metadata": {},
   "outputs": [
    {
     "name": "stdout",
     "output_type": "stream",
     "text": [
      "배추예상값 :  2123.0 원\n"
     ]
    }
   ],
   "source": [
    "print ('배추예상값 : ', result[0], '원')"
   ]
  },
  {
   "cell_type": "code",
   "execution_count": 20,
   "id": "6dc93e3d-02a0-4518-8c77-88688ecfe85e",
   "metadata": {},
   "outputs": [
    {
     "data": {
      "text/plain": [
       "['./model/cabb_model.pkl']"
      ]
     },
     "execution_count": 20,
     "metadata": {},
     "output_type": "execute_result"
    }
   ],
   "source": [
    "import joblib\n",
    "joblib.dump(model, './model/cabb_model.pkl')"
   ]
  },
  {
   "cell_type": "code",
   "execution_count": 21,
   "id": "73687b41-10d2-4cb9-a658-aa78ddb8657a",
   "metadata": {},
   "outputs": [
    {
     "name": "stdout",
     "output_type": "stream",
     "text": [
      "0.999125889221821\n"
     ]
    }
   ],
   "source": [
    "loaded_model = joblib.load('./model/cabb_model.pkl')\n",
    "score = loaded_model.score(X,y)\n",
    "print(score)"
   ]
  },
  {
   "cell_type": "code",
   "execution_count": 22,
   "id": "e7cdf38d-843a-4a69-bc4b-a1c713702377",
   "metadata": {},
   "outputs": [],
   "source": [
    "avgTemp = 5\n",
    "minTemp = -11\n",
    "maxTemp = 0.9\n",
    "rainFall = 1"
   ]
  },
  {
   "cell_type": "code",
   "execution_count": 23,
   "id": "0198fbba-3d5b-422f-ad4d-a8cf9d5cc5e6",
   "metadata": {},
   "outputs": [],
   "source": [
    "input_features = [[avgTemp, minTemp, maxTemp, rainFall]]"
   ]
  },
  {
   "cell_type": "code",
   "execution_count": 24,
   "id": "596093f7-51c3-444c-8be9-e8dfb2b8c09e",
   "metadata": {},
   "outputs": [
    {
     "name": "stdout",
     "output_type": "stream",
     "text": [
      "배추 예상값 :  2123.0 원\n"
     ]
    }
   ],
   "source": [
    "print('배추 예상값 : ', result[0], '원')"
   ]
  },
  {
   "cell_type": "code",
   "execution_count": 32,
   "id": "2561ce8c-b7aa-4864-80ad-62848c2f3e9f",
   "metadata": {
    "tags": []
   },
   "outputs": [
    {
     "name": "stdout",
     "output_type": "stream",
     "text": [
      "배추 예상값 :  3617.0 원\n"
     ]
    }
   ],
   "source": [
    "result = model.predict(input_features)\n",
    "print('배추 예상값 : ', result[0], '원')"
   ]
  },
  {
   "cell_type": "code",
   "execution_count": 34,
   "id": "68ab62be-9060-4795-8f98-935ccde4abd3",
   "metadata": {},
   "outputs": [
    {
     "data": {
      "text/plain": [
       "array([2123.])"
      ]
     },
     "execution_count": 34,
     "metadata": {},
     "output_type": "execute_result"
    }
   ],
   "source": [
    "result"
   ]
  },
  {
   "cell_type": "code",
   "execution_count": 36,
   "id": "c09ef529-1085-425f-8d79-30ccb098b2e3",
   "metadata": {},
   "outputs": [
    {
     "data": {
      "text/plain": [
       "array([2600., 3702., 4710., ..., 5472., 2429., 2800.])"
      ]
     },
     "execution_count": 36,
     "metadata": {},
     "output_type": "execute_result"
    }
   ],
   "source": [
    "model.predict(X)"
   ]
  },
  {
   "cell_type": "code",
   "execution_count": 28,
   "id": "35330e5d-d0e8-46c7-9363-3d7adf04dcb7",
   "metadata": {},
   "outputs": [],
   "source": [
    "from matplotlib import pyplot as plt\n",
    "from sklearn.tree import plot_tree"
   ]
  },
  {
   "cell_type": "code",
   "execution_count": 30,
   "id": "2b32dff9-6196-4350-9671-1e9e94bb0bd3",
   "metadata": {},
   "outputs": [
    {
     "data": {
      "image/png": "[encoded data removed]",
      "text/plain": [
       "<Figure size 432x288 with 1 Axes>"
      ]
     },
     "metadata": {
      "needs_background": "light"
     },
     "output_type": "display_data"
    }
   ],
   "source": [
    "plot_tree(model)\n",
    "plt.show()"
   ]
  },
  {
   "cell_type": "code",
   "execution_count": null,
   "id": "be2bfd88-8501-439f-a78a-53b39c421c48",
   "metadata": {},
   "outputs": [],
   "source": []
  }
 ],
 "metadata": {
  "kernelspec": {
   "display_name": "Python 3",
   "language": "python",
   "name": "python3"
  },
  "language_info": {
   "codemirror_mode": {
    "name": "ipython",
    "version": 3
   },
   "file_extension": ".py",
   "mimetype": "text/x-python",
   "name": "python",
   "nbconvert_exporter": "python",
   "pygments_lexer": "ipython3",
   "version": "3.8.8"
  }
 },
 "nbformat": 4,
 "nbformat_minor": 5
}
